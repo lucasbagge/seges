{
 "cells": [
  {
   "cell_type": "markdown",
   "metadata": {},
   "source": [
    "# Python functions"
   ]
  },
  {
   "cell_type": "markdown",
   "metadata": {},
   "source": [
    "In python you can easy define a function using the syntacs:\n",
    "\n",
    "```python\n",
    "def functino-name(var_1,...var_k):\n",
    "    return body code\n",
    "```\n",
    "\n",
    "Where as in R we give the functoin some variables/parameter and it return s ouput. \n",
    "\n",
    "Let us see an example:\n"
   ]
  },
  {
   "cell_type": "code",
   "execution_count": 1,
   "metadata": {},
   "outputs": [
    {
     "name": "stdout",
     "output_type": "stream",
     "text": [
      "test function \n",
      " 6\n"
     ]
    }
   ],
   "source": [
    "def sum3(x, y, z):\n",
    "    return x+y+z\n",
    "\n",
    "print('test function \\n', sum3(2,2,2))"
   ]
  },
  {
   "cell_type": "markdown",
   "metadata": {},
   "source": [
    "## Multiple arguments\n",
    "\n",
    "If you dont want to specifie every variable that goes into your function you can add `*variable`:"
   ]
  },
  {
   "cell_type": "code",
   "execution_count": 2,
   "metadata": {},
   "outputs": [
    {
     "name": "stdout",
     "output_type": "stream",
     "text": [
      "x =  1\n",
      "y =  2\n",
      "L =  (3, 4, 5, 56, 3, 2, 1)\n"
     ]
    }
   ],
   "source": [
    "def my_print(x, y, *L):\n",
    "    print('x = ', x)\n",
    "    print('y = ', y)\n",
    "    print('L = ', L)\n",
    "    \n",
    "my_print(1, 2, 3, 4, 5, 56,3,2 ,1)    "
   ]
  },
  {
   "cell_type": "markdown",
   "metadata": {},
   "source": [
    "## Arbitrary Keyword Arguments, **kwargs\n",
    "\n",
    "If you do not know how many keyword arguments that will be passed into your function, add two asterisk: ** before the parameter name in the function definition.\n",
    "\n",
    "This way the function will receive a dictionary of arguments, and can access the items accordingly:"
   ]
  },
  {
   "cell_type": "code",
   "execution_count": 3,
   "metadata": {},
   "outputs": [
    {
     "name": "stdout",
     "output_type": "stream",
     "text": [
      "his name is Lucas\n"
     ]
    }
   ],
   "source": [
    "def my_func(**L):\n",
    "    print('his name is ' + L['fname'])\n",
    "    \n",
    "my_func(fname = 'Lucas')"
   ]
  },
  {
   "cell_type": "markdown",
   "metadata": {},
   "source": [
    "## Exercises\n",
    "\n",
    "### Exercise 7.1 (average)\n",
    "\n"
   ]
  },
  {
   "cell_type": "markdown",
   "metadata": {},
   "source": [
    "#### Write a function average_two(x, y) that computes the average of x and y, i.e. (x + y )/2.\n",
    "\n"
   ]
  },
  {
   "cell_type": "code",
   "execution_count": 4,
   "metadata": {},
   "outputs": [
    {
     "name": "stdout",
     "output_type": "stream",
     "text": [
      "1.5\n"
     ]
    }
   ],
   "source": [
    "def average_two(x, y):\n",
    "    return (x + y) / 2\n",
    "\n",
    "print(average_two(2, 1))"
   ]
  },
  {
   "cell_type": "markdown",
   "metadata": {},
   "source": [
    "#### Write a function list_average(L) that computes the average of the numbers in the list L.\n",
    "\n"
   ]
  },
  {
   "cell_type": "code",
   "execution_count": 5,
   "metadata": {},
   "outputs": [
    {
     "name": "stdout",
     "output_type": "stream",
     "text": [
      "2.25\n"
     ]
    }
   ],
   "source": [
    "def list_a(L):\n",
    "    return sum(L) / len(L)\n",
    "\n",
    "Lt = [1, 2, 1, 5]\n",
    "\n",
    "print(list_a(Lt))"
   ]
  },
  {
   "cell_type": "markdown",
   "metadata": {},
   "source": [
    "#### Write a function average(x1, ..., xk) that takes an arbitrary number of arguments (but at least one) and computes the average of x1, ..., xk.\n",
    "\n",
    "Hint. Use a * to indicate an arbitrary argument list."
   ]
  },
  {
   "cell_type": "code",
   "execution_count": 11,
   "metadata": {},
   "outputs": [
    {
     "name": "stdout",
     "output_type": "stream",
     "text": [
      "1.25\n"
     ]
    }
   ],
   "source": [
    "def avv(*x):\n",
    "    return list_a(list(x))\n",
    "\n",
    "Lt = 1\n",
    "l2 =  2\n",
    "\n",
    "print(avv(Lt, l2, 1, 1))"
   ]
  },
  {
   "cell_type": "code",
   "execution_count": null,
   "metadata": {},
   "outputs": [],
   "source": []
  }
 ],
 "metadata": {
  "kernelspec": {
   "display_name": "Python 3.9.13 64-bit",
   "language": "python",
   "name": "python3"
  },
  "language_info": {
   "codemirror_mode": {
    "name": "ipython",
    "version": 3
   },
   "file_extension": ".py",
   "mimetype": "text/x-python",
   "name": "python",
   "nbconvert_exporter": "python",
   "pygments_lexer": "ipython3",
   "version": "3.9.13"
  },
  "orig_nbformat": 4,
  "vscode": {
   "interpreter": {
    "hash": "b0fa6594d8f4cbf19f97940f81e996739fb7646882a419484c72d19e05852a7e"
   }
  }
 },
 "nbformat": 4,
 "nbformat_minor": 2
}
