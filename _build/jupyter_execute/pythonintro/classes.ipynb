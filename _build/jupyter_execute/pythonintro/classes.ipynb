{
 "cells": [
  {
   "cell_type": "markdown",
   "metadata": {},
   "source": [
    "# Object-Oriented Programming\n",
    "\n",
    "Object-oriented programming is a programming paradigm that provides a means of structuring programs so that properties and behaviors are bundled into individual objects.\n",
    "\n",
    "For instance, an object could represent a person with properties like a name, age, and address and behaviors such as walking, talking, breathing, and running. Or it could represent an email with properties like a recipient list, subject, and body and behaviors like adding attachments and sending.\n",
    "\n",
    "Put another way, object-oriented programming is an approach for modeling concrete, real-world things, like cars, as well as relations between things, like companies and employees, students and teachers, and so on. OOP models real-world entities as software objects that have some data associated with them and can perform certain functions.\n",
    "\n",
    "## How to Define a Class\n",
    "\n",
    "All class definitions start with the class keyword, which is followed by the name of the class and a colon. Any code that is indented below the class definition is considered part of the class’s body.\n",
    "\n",
    "Here’s an example of a Dog class:\n",
    "\n",
    "```python\n",
    "class Dog:\n",
    "    pass\n",
    "```\n",
    "\n",
    "The properties that all Dog objects must have are defined in a method called `.__init__()`. Every time a new Dog object is created, .__init__() sets the initial state of the object by assigning the values of the object’s properties. That is, .__init__() initializes each new instance of the class.\n",
    "\n",
    "You can give .__init__() any number of parameters, but the first parameter will always be a variable called self. When a new class instance is created, the instance is automatically passed to the self parameter in .__init__() so that new attributes can be defined on the object.\n",
    "\n",
    "Let’s update the Dog class with an .__init__() method that creates .name and .age attributes:"
   ]
  },
  {
   "cell_type": "code",
   "execution_count": 1,
   "metadata": {},
   "outputs": [],
   "source": [
    "class Dog:\n",
    "    def __init__(self, name, age):\n",
    "        self.name = name\n",
    "        self.age = age"
   ]
  },
  {
   "cell_type": "markdown",
   "metadata": {},
   "source": [
    "In the body of .__init__(), there are two statements using the self variable:\n",
    "\n",
    "1) self.name = name creates an attribute called name and assigns to it the value of the name parameter.\n",
    "2) self.age = age creates an attribute called age and assigns to it the value of the age parameter.\n",
    "\n",
    "Attributes created in .__init__() are called **instance attributes**. An instance attribute’s value is specific to a particular instance of the class. All Dog objects have a name and an age, but the values for the name and age attributes will vary depending on the Dog instance.\n",
    "\n",
    "On the other hand, **class attributes** are attributes that have the same value for all class instances. You can define a class attribute by assigning a value to a variable name outside of .__init__().\n",
    "\n",
    "For example, the following Dog class has a class attribute called species with the value \"Canis familiaris\":\n",
    "\n",
    "```python\n",
    "class Dog:\n",
    "    # Class attribute\n",
    "    species = \"Canis familiaris\"\n",
    "\n",
    "    def __init__(self, name, age):\n",
    "        self.name = name\n",
    "        self.age = age\n",
    "```\n",
    "\n",
    "Class attributes are defined directly beneath the first line of the class name and are indented by four spaces. They must always be assigned an initial value. When an instance of the class is created, class attributes are automatically created and assigned to their initial values.\n",
    "\n",
    "Use class attributes to define properties that should have the same value for every class instance. Use instance attributes for properties that vary from one instance to another.\n",
    "\n",
    "## Exercies\n",
    "\n",
    "### Exercise 11.1 (PersonReader)\n",
    "\n",
    "Implement a class PersonReader supporting the following methods:\n",
    "\n",
    "input() asks the user for the name and year of birth of a person at shell prompt (using the builtin input function).\n",
    "\n",
    "__str__ that returns the string 'name (year)' (e.g. to be used by the print method when applied to a PersonReader).\n",
    "\n",
    "Example.\n",
    "\n",
    " M = PersonReader()\n",
    " M.input()\n",
    "Name: Margrethe\n",
    "Born: 1940\n",
    " print(M)\n",
    "Margrethe (1940)"
   ]
  },
  {
   "cell_type": "code",
   "execution_count": 2,
   "metadata": {},
   "outputs": [],
   "source": [
    "class PersonReader:\n",
    "    def __init__(self):\n",
    "        self.name = None\n",
    "        self.year = None\n",
    "    \n",
    "    def input(self):\n",
    "        self.name = input('name: ',)\n",
    "        self.year = input('year: ')\n",
    "    \n",
    "    def __str__(self):\n",
    "        return f'{self.name} ({self.year})'"
   ]
  },
  {
   "cell_type": "code",
   "execution_count": 3,
   "metadata": {},
   "outputs": [
    {
     "ename": "StdinNotImplementedError",
     "evalue": "raw_input was called, but this frontend does not support input requests.",
     "output_type": "error",
     "traceback": [
      "\u001b[0;31m---------------------------------------------------------------------------\u001b[0m",
      "\u001b[0;31mStdinNotImplementedError\u001b[0m                  Traceback (most recent call last)",
      "\u001b[0;32m/var/folders/pk/f_w9xjw57l3_b9hlyplw1pym0000gn/T/ipykernel_2188/3870457647.py\u001b[0m in \u001b[0;36m<cell line: 2>\u001b[0;34m()\u001b[0m\n\u001b[1;32m      1\u001b[0m \u001b[0mM\u001b[0m \u001b[0;34m=\u001b[0m \u001b[0mPersonReader\u001b[0m\u001b[0;34m(\u001b[0m\u001b[0;34m)\u001b[0m\u001b[0;34m\u001b[0m\u001b[0;34m\u001b[0m\u001b[0m\n\u001b[0;32m----> 2\u001b[0;31m \u001b[0mM\u001b[0m\u001b[0;34m.\u001b[0m\u001b[0minput\u001b[0m\u001b[0;34m(\u001b[0m\u001b[0;34m)\u001b[0m\u001b[0;34m\u001b[0m\u001b[0;34m\u001b[0m\u001b[0m\n\u001b[0m",
      "\u001b[0;32m/var/folders/pk/f_w9xjw57l3_b9hlyplw1pym0000gn/T/ipykernel_2188/379309460.py\u001b[0m in \u001b[0;36minput\u001b[0;34m(self)\u001b[0m\n\u001b[1;32m      5\u001b[0m \u001b[0;34m\u001b[0m\u001b[0m\n\u001b[1;32m      6\u001b[0m     \u001b[0;32mdef\u001b[0m \u001b[0minput\u001b[0m\u001b[0;34m(\u001b[0m\u001b[0mself\u001b[0m\u001b[0;34m)\u001b[0m\u001b[0;34m:\u001b[0m\u001b[0;34m\u001b[0m\u001b[0;34m\u001b[0m\u001b[0m\n\u001b[0;32m----> 7\u001b[0;31m         \u001b[0mself\u001b[0m\u001b[0;34m.\u001b[0m\u001b[0mname\u001b[0m \u001b[0;34m=\u001b[0m \u001b[0minput\u001b[0m\u001b[0;34m(\u001b[0m\u001b[0;34m'name: '\u001b[0m\u001b[0;34m,\u001b[0m\u001b[0;34m)\u001b[0m\u001b[0;34m\u001b[0m\u001b[0;34m\u001b[0m\u001b[0m\n\u001b[0m\u001b[1;32m      8\u001b[0m         \u001b[0mself\u001b[0m\u001b[0;34m.\u001b[0m\u001b[0myear\u001b[0m \u001b[0;34m=\u001b[0m \u001b[0minput\u001b[0m\u001b[0;34m(\u001b[0m\u001b[0;34m'year: '\u001b[0m\u001b[0;34m)\u001b[0m\u001b[0;34m\u001b[0m\u001b[0;34m\u001b[0m\u001b[0m\n\u001b[1;32m      9\u001b[0m \u001b[0;34m\u001b[0m\u001b[0m\n",
      "\u001b[0;32m/opt/anaconda3/lib/python3.9/site-packages/ipykernel/kernelbase.py\u001b[0m in \u001b[0;36mraw_input\u001b[0;34m(self, prompt)\u001b[0m\n\u001b[1;32m   1172\u001b[0m         \"\"\"\n\u001b[1;32m   1173\u001b[0m         \u001b[0;32mif\u001b[0m \u001b[0;32mnot\u001b[0m \u001b[0mself\u001b[0m\u001b[0;34m.\u001b[0m\u001b[0m_allow_stdin\u001b[0m\u001b[0;34m:\u001b[0m\u001b[0;34m\u001b[0m\u001b[0;34m\u001b[0m\u001b[0m\n\u001b[0;32m-> 1174\u001b[0;31m             raise StdinNotImplementedError(\n\u001b[0m\u001b[1;32m   1175\u001b[0m                 \u001b[0;34m\"raw_input was called, but this frontend does not support input requests.\"\u001b[0m\u001b[0;34m\u001b[0m\u001b[0;34m\u001b[0m\u001b[0m\n\u001b[1;32m   1176\u001b[0m             )\n",
      "\u001b[0;31mStdinNotImplementedError\u001b[0m: raw_input was called, but this frontend does not support input requests."
     ]
    }
   ],
   "source": [
    "M = PersonReader()\n",
    "M.input()"
   ]
  },
  {
   "cell_type": "markdown",
   "metadata": {},
   "source": []
  },
  {
   "cell_type": "code",
   "execution_count": 10,
   "metadata": {},
   "outputs": [
    {
     "name": "stdout",
     "output_type": "stream",
     "text": [
      "lucas (1992)\n"
     ]
    }
   ],
   "source": [
    "print(M)"
   ]
  },
  {
   "cell_type": "markdown",
   "metadata": {},
   "source": [
    "### Exercise 11.3 (2D vector)\n",
    "\n",
    "In this exercise you should implement a class Vector for storing 2D vectors with the two vector coordinates as the attributes x and y. The class should have the following methods:\n",
    "\n",
    "* A constructor __init__ where it is possible to create a new vector using Vector(x, y).\n",
    "\n",
    "* length() returning the length of the vector, i.e. sqrt(x ** 2 + y ** 2). Hint. from math import sqrt.\n",
    "\n",
    "* add(other_vector) return a new vector that is the result of adding two vectors.\n",
    "\n",
    "* Redefine + so that vector1 + vector2 returns a new vector that is the sum of the two vectors (i.e. define __add__).\n",
    "\n",
    "* mult(factor), where factor is an int or float, should return a new vector Vector(x * factor, y * factor).\n",
    "\n",
    "* dot(vector) should return the dot product with another vector, i.e. x * vector.x + y * vector.y.\n",
    "\n",
    "* Define the * operator so that vector * number returns vector.mul(number) whereas vector1 * vector2 returns the dot product of the two vectors (i.e. define __mul__).\n",
    "\n",
    "* Define __rmul__ so that it possible to write number * vector. The result should be the same as vector * number.\n",
    "\n",
    "* Define __str__ to return the string '<x, y>' where x and y are the coordinates of the vector."
   ]
  },
  {
   "cell_type": "code",
   "execution_count": 29,
   "metadata": {},
   "outputs": [],
   "source": [
    "from math import sqrt\n",
    "import numpy as np\n",
    "\n",
    "class Vector():\n",
    "    def __init__(self, x, y):\n",
    "        self.x = np.array(x)\n",
    "        self.y = np.array(y)\n",
    "        self.vector = [x, y]\n",
    "        \n",
    "    def length(self):\n",
    "        return (self.x ** 2 + self.y ** 2) ** 0.5\n",
    "    \n",
    "    def add(self, other_vector):\n",
    "            return [(self.x + other_vector, other_vector + self.y)]"
   ]
  },
  {
   "cell_type": "code",
   "execution_count": 30,
   "metadata": {},
   "outputs": [
    {
     "data": {
      "text/plain": [
       "array([2.23606798, 1.41421356])"
      ]
     },
     "execution_count": 30,
     "metadata": {},
     "output_type": "execute_result"
    }
   ],
   "source": [
    "t = Vector(x = [1, 1], y = [2,1])\n",
    "\n",
    "t.length()"
   ]
  },
  {
   "cell_type": "code",
   "execution_count": 31,
   "metadata": {},
   "outputs": [
    {
     "data": {
      "text/plain": [
       "[(array([2, 2]), array([3, 2]))]"
      ]
     },
     "execution_count": 31,
     "metadata": {},
     "output_type": "execute_result"
    }
   ],
   "source": [
    "t.add([1,1])"
   ]
  },
  {
   "cell_type": "markdown",
   "metadata": {},
   "source": [
    "## FRAGILE VALUES\n",
    "\n",
    "In this problem you should implement a class FragileValue, where\n",
    "each FragileValue object stores a nonnegative integer, e.g.\n",
    "FragileValue(42) should create an object storing the value 42.\n",
    "The class FragileValue should support the addition of two FragileValue\n",
    "objects, i.e. the + operator between two FragileValue objects, and\n",
    "printing a FragileValue, i.e. supporting str(x) where x is a\n",
    "FragileValue object.\n",
    "    \n",
    "Whenever str(x) is called on a FragileValue x, the value stored in the\n",
    "FragileValue is decreased by one before the value is returned as a\n",
    "string. Similarly, x + y should decrease the values of both x\n",
    "and y by one, before returning a FragileValue containing the sum of the\n",
    "new values of x and y. Note that print(FragileValue(5) + FragileValue(7))\n",
    "prints 9, since the addition first decreases the two FragileValues to\n",
    "4 and 6, respectively, before creating a new FragileValue storing 10.\n",
    "Printing this FragileValue first decreases its value to 9, before\n",
    "printing the string '9'.\n",
    "    \n",
    "If a FragileValue stores the value zero before calling str on it, or\n",
    "before adding it with another FagileValue value, a BrokenValue exception\n",
    "should be raised.\n",
    "\n",
    "    Input:  Multiple lines of Python code using the class FragileValue.\n",
    "            The last line should start with '#eof' (indicating end of file).\n",
    "\n",
    "    Output: The output generated by executing the input code.\n",
    "            If the code throws a BrokenValue exception,\n",
    "            'BrokenValue' should be printed and the program end normally.\n",
    "\n",
    "    Example:\n",
    "\n",
    "      Input:  x = FragileValue(42)\n",
    "              print(x)\n",
    "              print(x)\n",
    "              x = FragileValue(5)\n",
    "              y = FragileValue(7)\n",
    "              z = x + y\n",
    "              print(z)\n",
    "              #eof\n",
    "\n",
    "      Output: 41\n",
    "              40\n",
    "              9\n",
    "\n",
    "    Note: The below code already handles reading input, executing the input,\n",
    "          and handling a raised BrokenValue exception.\n"
   ]
  },
  {
   "cell_type": "code",
   "execution_count": 1,
   "metadata": {},
   "outputs": [],
   "source": [
    "class BrokenValue(Exception):\n",
    "    pass\n",
    "\n",
    "class FragileValue():\n",
    "    def __init__(self, value):\n",
    "        assert value >= 0\n",
    "        self.value = value\n",
    "        \n",
    "    def __add__(self, other):\n",
    "        if self.value ==  0 or other.value == 0:\n",
    "            raise BrokenValue\n",
    "        self.value -= 1\n",
    "        other.value -= 1\n",
    "        return FragileValue(self.value + other.value)\n",
    "    \n",
    "    def __str__(self):\n",
    "        if self.value == 0:\n",
    "            raise BrokenValue\n",
    "        self.value -= 1\n",
    "        return str(self.value)\n",
    "        "
   ]
  },
  {
   "cell_type": "code",
   "execution_count": 4,
   "metadata": {},
   "outputs": [
    {
     "name": "stdout",
     "output_type": "stream",
     "text": [
      "41\n"
     ]
    }
   ],
   "source": [
    "x = FragileValue(42)\n",
    "\n"
   ]
  },
  {
   "cell_type": "code",
   "execution_count": 5,
   "metadata": {},
   "outputs": [
    {
     "name": "stdout",
     "output_type": "stream",
     "text": [
      "40\n"
     ]
    }
   ],
   "source": [
    "print(x)"
   ]
  },
  {
   "cell_type": "code",
   "execution_count": null,
   "metadata": {},
   "outputs": [],
   "source": [
    "x = FragileValue(5)\n",
    "y = FragileValue(7)\n"
   ]
  },
  {
   "cell_type": "markdown",
   "metadata": {},
   "source": [
    "    ROTATING VECTOR\n",
    "\n",
    "    Your task is to create a class Vector to represent two-dimensional vectors.\n",
    "    An object v of class Vector should be created by v = Vector(x, y),\n",
    "    where x and y are floats. Create methods mult and rotate: \n",
    "    v.mult(c) should scale the x and y coordinates by the float c, and\n",
    "    v.rotate() should rotate the vector 90 degrees counter clockwise.\n",
    "    Both mult and rotate should change the vector and return None.\n",
    "    Finally, define __str__ (used by str and print) to return the string\n",
    "    'Vector(x, y)', where the x and y coordinates are shown with 3 decimals.\n",
    "\n",
    "    Example of usage:\n",
    "    \n",
    "        > v = Vector(1.0, 3.0)\n",
    "        > print(v)\n",
    "        Vector(1.000, 3.000)\n",
    "        > v.rotate()\n",
    "        > print(v)\n",
    "        Vector(-3.000, 1.000)\n",
    "        > v.mult(0.5)\n",
    "        > print(v)\n",
    "        Vector(-1.500, 0.500)\n",
    "\n",
    "    Input:  A Python expression using the class Vector.\n",
    "\n",
    "    Output: The output generated by evaluating the input expression.\n",
    "\n",
    "    Example:\n",
    "\n",
    "      Input:  print(*[x for v in [Vector(2.0, 1.0)] for x in [str(v), v.rotate(), v.mult(1 / 3), str(v)]])\n",
    "    \n",
    "      Output: Vector(2.000, 1.000) None None Vector(-0.333, 0.667)\n",
    " \n",
    "    Note: The below code already takes care of handling the input and output."
   ]
  },
  {
   "cell_type": "code",
   "execution_count": 26,
   "metadata": {},
   "outputs": [],
   "source": [
    "class Vector():\n",
    "    def __init__(self, x, y):\n",
    "        self.x = x\n",
    "        self.y = y\n",
    "    \n",
    "    def mult(self, scalar):\n",
    "        self.x *= scalar\n",
    "        self.y *= scalar\n",
    "    \n",
    "    def rotate(self):\n",
    "        self.x, self.y = -self.y, self.x\n",
    "        \n",
    "    def __str__(self):\n",
    "        return f'Vector({self.x}, {self.y})'\n",
    "        \n",
    "    "
   ]
  },
  {
   "cell_type": "code",
   "execution_count": 27,
   "metadata": {},
   "outputs": [
    {
     "name": "stdout",
     "output_type": "stream",
     "text": [
      "Vector(-3.0, 1.0)\n"
     ]
    }
   ],
   "source": [
    "v = Vector(1.0, 3.0)\n",
    "#v.mult(0.5)\n",
    "v.rotate()\n",
    "print(v)"
   ]
  },
  {
   "cell_type": "markdown",
   "metadata": {},
   "source": [
    "GENEALOGY\n",
    "\n",
    "    Your task is to create a class Student to represent a student\n",
    "    with a name and advisor information. Student(name) should create\n",
    "    a new Student object with the given name (a string), whereas\n",
    "    Student(name, advisor) creates a student with an associated\n",
    "    advisor (a Student object).\n",
    "    The Student class should have two additional methods ancestors()\n",
    "    and descendants(). The ancestors method should return a list with\n",
    "    the advisor's name and recursive the advisor's ancestors names.\n",
    "    The list of names should be alphabetically sorted.\n",
    "    The descendants method should return a list with the names of the\n",
    "    students an advisor has had, and recursively their descendants.\n",
    "    The list of names should be alphabetically sorted.\n",
    "\n",
    "    Example of usage:\n",
    "    \n",
    "        Ancestor tre:\n",
    "    \n",
    "                 Peter\n",
    "                 /   \\\n",
    "                /     \\\n",
    "              Tom    Simon\n",
    "               |\n",
    "               |\n",
    "              Dora  \n",
    "\n",
    "        > peter = Student('Peter')\n",
    "        > tom = Student('Tom', advisor=peter)\n",
    "        > simon = Student('Simon', advisor=peter)\n",
    "        > dora = Student('Dora', advisor=tom)\n",
    "        > print(dora.ancestors())\n",
    "        ['Peter', 'Tom']\n",
    "        > print(peter.descendants())\n",
    "        ['Dora', 'Simon', 'Tom']\n",
    "\n",
    "    Input:  A single line with Python statements separated by semicolon.\n",
    "\n",
    "    Output: The output generated by evaluating the input line.\n",
    "\n",
    "    Example:\n",
    "\n",
    "      Input:  peter = Student('Peter'); tom = Student('Tom', advisor=peter);\n",
    "              simon = Student('Simon', advisor=peter); dora = Student('Dora',\n",
    "              advisor=tom); print(dora.ancestors()); print(peter.descendants())\n",
    "\n",
    "              (a single line with the above usage example)\n",
    "              \n",
    "      Output: ['Peter', 'Tom']\n",
    "              ['Dora', 'Simon', 'Tom']\n",
    " \n",
    "    Note: The below code already takes care of handling the input and output."
   ]
  },
  {
   "cell_type": "code",
   "execution_count": 8,
   "metadata": {},
   "outputs": [],
   "source": [
    "class Student:\n",
    "    def __init__(self, name, advisor = None):        \n",
    "        self.name = name\n",
    "        self.advisor = advisor\n",
    "        self.students = []\n",
    "        if advisor:\n",
    "            advisor.students.append(self)\n",
    "            \n",
    "    def ancestors(self):\n",
    "        if not self.advisor:\n",
    "            return []\n",
    "        return sorted([self.advisor.name] + self.advisor.ancestors())\n",
    "    \n",
    "    def descendants(self):\n",
    "        names = []\n",
    "        for student in self.students:\n",
    "            names.append(student.name)\n",
    "            names.extend(student.descendants())\n",
    "        return sorted(names)          "
   ]
  },
  {
   "cell_type": "code",
   "execution_count": 9,
   "metadata": {},
   "outputs": [
    {
     "name": "stdout",
     "output_type": "stream",
     "text": [
      "['Peter', 'Tom']\n",
      "['Dora', 'Simon', 'Tom']\n"
     ]
    }
   ],
   "source": [
    "peter = Student('Peter')\n",
    "tom = Student('Tom', advisor=peter);\n",
    "simon = Student('Simon', advisor=peter)\n",
    "dora = Student('Dora',advisor=tom)\n",
    "\n",
    "print(dora.ancestors()); print(peter.descendants())"
   ]
  },
  {
   "cell_type": "markdown",
   "metadata": {},
   "source": [
    "    CALCULATOR CLASS\n",
    "\n",
    "    In this problem you should create a class Calculator implementing a\n",
    "    very simple calculator, storing an integer value. Calculator()\n",
    "    should create a new Calculator object and initialize it to store\n",
    "    the value 0.\n",
    "\n",
    "    The class Calcuator should support the three methodds add, mult \n",
    "    and reset. Given a Calcuator c, the three methods should\n",
    "\n",
    "      c.add(x)   # add x to the value stored in c\n",
    "      c.mult(x)  # multiply the value stored in c by x\n",
    "      c.reset()  # reset the value stored in c to 0\n",
    "\n",
    "    Each of the three methods should return the new value stored in\n",
    "    the Calculator c.\n",
    "\n",
    "    An example usage of the class Calculator could be\n",
    "\n",
    "      c = Calculator()\n",
    "      print(c.add(7))\n",
    "      print(c.mult(6))\n",
    "      print(c.reset())\n",
    "      print(c.add(1))\n",
    "      print(c.add(2))\n",
    "      print(c.add(3))\n",
    "\n",
    "    that should print the values\n",
    "\n",
    "      7\n",
    "      42\n",
    "      0\n",
    "      1\n",
    "      3\n",
    "      6\n",
    "\n",
    "    Input:  \n",
    "\n",
    "      A Python expression using the Calculator class.\n",
    "\n",
    "    Output: \n",
    "\n",
    "      The result of evaluation the expression.\n",
    "\n",
    "    Example:\n",
    "\n",
    "      Input:  [x for c in [Calculator()] for x in [c.add(7), c.mult(6), c.reset(), c.add(1), c.add(2), c.add(3)]]\n",
    "\n",
    "      Output: [7, 42, 0, 1, 3, 6]\n",
    "\n",
    "    Note:\n",
    "\n",
    "      The below code already takes care of the input and output. \n",
    "      Your only task is to implement the methods in the\n",
    "      class Calculator."
   ]
  },
  {
   "cell_type": "code",
   "execution_count": null,
   "metadata": {},
   "outputs": [],
   "source": [
    "class CALCULATOR:\n",
    "    def __init__(self):\n",
    "        self.value = 0\n",
    "        \n",
    "    def reset():\n",
    "        "
   ]
  }
 ],
 "metadata": {
  "kernelspec": {
   "display_name": "Python 3.9.12 ('base')",
   "language": "python",
   "name": "python3"
  },
  "language_info": {
   "codemirror_mode": {
    "name": "ipython",
    "version": 3
   },
   "file_extension": ".py",
   "mimetype": "text/x-python",
   "name": "python",
   "nbconvert_exporter": "python",
   "pygments_lexer": "ipython3",
   "version": "3.9.12"
  },
  "vscode": {
   "interpreter": {
    "hash": "40d3a090f54c6569ab1632332b64b2c03c39dcf918b08424e98f38b5ae0af88f"
   }
  }
 },
 "nbformat": 4,
 "nbformat_minor": 2
}