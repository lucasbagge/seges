{
 "cells": [
  {
   "cell_type": "markdown",
   "metadata": {},
   "source": [
    "# Functions objects"
   ]
  },
  {
   "cell_type": "markdown",
   "metadata": {},
   "source": [
    "## Exercise 10.1 (my_map)\n",
    "\n",
    "In this exercise the goal is make your own implementation of Python's builtin map function.\n",
    "\n",
    "1) Make a function my_map that takes two arguments, a function f and a list [x1, ..., xn], and returns the list [f(x1), ..., f(xn)].\n",
    "\n",
    "Example. my_map(lambda x: x ** 3, [3, 2, 4])) should return [27, 8, 64].\n",
    "\n",
    "2) Make a function my_map_k that as arguments takes a function f requiring k ≥ 1 arguments and k lists L1, ..., Lk, and returns the list [f(L1[0], ..., Lk[0]), ..., f(L1[n-1], ..., Lk[n-1])], where n is the length of the shortest Li list.\n",
    "\n",
    "Hint. Use Python's * notation to handle an arbitrary number of lists as arguments.\n",
    "\n",
    "Example. my_map_k(lambda x, y, z: x * y * z, [3, 2, 5], [2, 7, 9], [1, 2]) should return [6, 28].\n",
    "\n",
    "Note. Your solution should not use the builtin map function."
   ]
  },
  {
   "cell_type": "code",
   "execution_count": 1,
   "metadata": {},
   "outputs": [
    {
     "data": {
      "text/plain": [
       "[27, 8, 64]"
      ]
     },
     "execution_count": 1,
     "metadata": {},
     "output_type": "execute_result"
    }
   ],
   "source": [
    "def my_map(a, b):\n",
    "    return [a(l) for l in b]\n",
    "\n",
    "my_map(lambda x: x ** 3, [3, 2, 4])"
   ]
  },
  {
   "cell_type": "code",
   "execution_count": 2,
   "metadata": {},
   "outputs": [
    {
     "data": {
      "text/plain": [
       "[6, 14, 45]"
      ]
     },
     "execution_count": 2,
     "metadata": {},
     "output_type": "execute_result"
    }
   ],
   "source": [
    "k, k1, k2, k3 = [3, 2, 5], [2, 7, 9], [1, 2], [1,21,1]\n",
    "\n",
    "\n",
    "def my_map_k(a, *b):\n",
    "    return [a(*l) for l in zip(*b)]\n",
    "\n",
    "f = lambda x, y : x * y\n",
    "\n",
    "[f(x, y) for x, y in zip(k, k1)]"
   ]
  },
  {
   "cell_type": "code",
   "execution_count": 3,
   "metadata": {},
   "outputs": [
    {
     "data": {
      "text/plain": [
       "[6, 28]"
      ]
     },
     "execution_count": 3,
     "metadata": {},
     "output_type": "execute_result"
    }
   ],
   "source": [
    "my_map_k(lambda x, y, z: x * y * z, [3, 2, 5], [2, 7, 9], [1, 2])"
   ]
  },
  {
   "cell_type": "markdown",
   "metadata": {},
   "source": [
    "### Exercise 10.2 (string sorting)\n",
    "\n",
    "Write a function str_sort that sorts a list of strings, such that the strings are sorted with respect to the number of distinct letters ('a' - 'z') there are in the strings. Strings with an equal number of distinct letters after converting to lower case should apper in alphabetical order.\n",
    "\n",
    "Example.\n",
    "\n",
    "str_sort(['AHA', 'Oasis', 'ABBA', 'Beatles', 'AC/DC', 'B. B. King', 'Bangles', 'Alan Parsons'])\n",
    "should return\n",
    "\n",
    "['ABBA', 'AHA', 'AC/DC', 'Oasis', 'B. B. King', 'Beatles', 'Alan Parsons', 'Bangles']`.\n",
    "Hint. Use len(set(X)) to find the number of different elements in a list X."
   ]
  },
  {
   "cell_type": "code",
   "execution_count": 4,
   "metadata": {},
   "outputs": [
    {
     "data": {
      "text/plain": [
       "2"
      ]
     },
     "execution_count": 4,
     "metadata": {},
     "output_type": "execute_result"
    }
   ],
   "source": [
    "t = 'ABBA'\n",
    "\n",
    "len(set(t))"
   ]
  },
  {
   "cell_type": "code",
   "execution_count": 5,
   "metadata": {},
   "outputs": [
    {
     "data": {
      "text/plain": [
       "7"
      ]
     },
     "execution_count": 5,
     "metadata": {},
     "output_type": "execute_result"
    }
   ],
   "source": [
    "tt = 'B. B. King'\n",
    "len(set(tt))"
   ]
  },
  {
   "cell_type": "code",
   "execution_count": 6,
   "metadata": {},
   "outputs": [
    {
     "data": {
      "text/plain": [
       "['b', 'b', 'k', 'i', 'n', 'g']"
      ]
     },
     "execution_count": 6,
     "metadata": {},
     "output_type": "execute_result"
    }
   ],
   "source": [
    "[c for c in tt.lower() if c.isalpha() ]"
   ]
  },
  {
   "cell_type": "code",
   "execution_count": 7,
   "metadata": {},
   "outputs": [],
   "source": [
    "def str_sort(L):\n",
    "    return sorted(L, key= lambda x: (len(set([c for c in x.lower() if c.isalpha()])), x))"
   ]
  },
  {
   "cell_type": "code",
   "execution_count": 8,
   "metadata": {},
   "outputs": [
    {
     "data": {
      "text/plain": [
       "['ABBA',\n",
       " 'AHA',\n",
       " 'AC/DC',\n",
       " 'Oasis',\n",
       " 'B. B. King',\n",
       " 'Beatles',\n",
       " 'Alan Parsons',\n",
       " 'Bangles']"
      ]
     },
     "execution_count": 8,
     "metadata": {},
     "output_type": "execute_result"
    }
   ],
   "source": [
    "str_sort(['AHA', 'Oasis', 'ABBA', 'Beatles', 'AC/DC', 'B. B. King', 'Bangles', 'Alan Parsons'])"
   ]
  },
  {
   "cell_type": "markdown",
   "metadata": {},
   "source": [
    "### Exercise 10.4* (foldr)\n",
    "\n",
    "In this exercise the goal is to make an implementation of foldr (fold right). Python's reduce function is often called foldl (fold left) in other programming languages, that given a function f and a list [x1, x2, x3, ..., xn] computes f(f(···f(f(x1, x2), x3)···), xn).\n",
    "\n",
    "The function foldr should instead compute f(x1, f(x2, f(x3, f(···f(xn-1, xn)···)))).\n",
    "\n",
    "This function does not appear in the Python standard library but is standard in other programming languages, in particular functional programming languages like Haskell and ML. The difference between folding left and right is illustrated by applying the power function to the list [2, 2, 2, 2], where ((2 ** 2) ** 2) ** 2 == 256 whereas 2 ** (2 ** (2 ** 2)) == 65536.\n",
    "\n",
    "import functools\n",
    "foldl = functools.reduce\n",
    "\n",
    "def foldr(f, L):\n",
    "    # your code\n",
    "\n",
    "print(foldl(lambda x, y: x ** y, [2, 2, 2, 2]))     # prints 256\n",
    "print(foldr(lambda x, y: x ** y, [2, 2, 2, 2]))     # should print 65536\n",
    "print(foldr(lambda x, y: x ** y, [2, 2, 2, 2, 2]))  # value with 19729 digits\n",
    "Note. You can implement foldr both with a loop and recursively."
   ]
  },
  {
   "cell_type": "code",
   "execution_count": 9,
   "metadata": {},
   "outputs": [
    {
     "data": {
      "text/plain": [
       "[4, 4, 4, 4]"
      ]
     },
     "execution_count": 9,
     "metadata": {},
     "output_type": "execute_result"
    }
   ],
   "source": [
    "t = [2, 2, 2, 2]\n",
    "[x**2 for x in t]"
   ]
  },
  {
   "cell_type": "code",
   "execution_count": 10,
   "metadata": {},
   "outputs": [
    {
     "data": {
      "text/plain": [
       "256"
      ]
     },
     "execution_count": 10,
     "metadata": {},
     "output_type": "execute_result"
    }
   ],
   "source": [
    "from functools import reduce\n",
    "def foldr(op, lst):\n",
    "    return reduce(op, reversed(lst))\n",
    "\n",
    "foldr(lambda x, y: x ** y, [2, 2, 2, 2])"
   ]
  },
  {
   "cell_type": "code",
   "execution_count": 11,
   "metadata": {},
   "outputs": [
    {
     "name": "stdout",
     "output_type": "stream",
     "text": [
      "65536\n"
     ]
    }
   ],
   "source": [
    "print(foldr(lambda x, y: x ** y, [2, 2, 2, 2, 2]))"
   ]
  },
  {
   "cell_type": "code",
   "execution_count": null,
   "metadata": {},
   "outputs": [],
   "source": []
  }
 ],
 "metadata": {
  "kernelspec": {
   "display_name": "Python 3.9.13 64-bit",
   "language": "python",
   "name": "python3"
  },
  "language_info": {
   "codemirror_mode": {
    "name": "ipython",
    "version": 3
   },
   "file_extension": ".py",
   "mimetype": "text/x-python",
   "name": "python",
   "nbconvert_exporter": "python",
   "pygments_lexer": "ipython3",
   "version": "3.9.12"
  },
  "vscode": {
   "interpreter": {
    "hash": "b0fa6594d8f4cbf19f97940f81e996739fb7646882a419484c72d19e05852a7e"
   }
  }
 },
 "nbformat": 4,
 "nbformat_minor": 2
}