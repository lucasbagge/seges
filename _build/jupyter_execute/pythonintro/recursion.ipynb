{
 "cells": [
  {
   "cell_type": "markdown",
   "metadata": {},
   "source": [
    "# Python Recursion\n",
    "\n"
   ]
  },
  {
   "cell_type": "markdown",
   "metadata": {},
   "source": [
    "The idea behind recursion is simple;\n",
    "> Write a functoin that repeat itself.\n",
    "\n",
    "Let us look at at example where we iterate though a loop that prints its number until it each zero:"
   ]
  },
  {
   "cell_type": "markdown",
   "metadata": {},
   "source": []
  },
  {
   "cell_type": "code",
   "execution_count": 1,
   "metadata": {},
   "outputs": [
    {
     "name": "stdout",
     "output_type": "stream",
     "text": [
      "3\n",
      "2\n",
      "1\n",
      "blastoff\n"
     ]
    }
   ],
   "source": [
    "def countdown(n):\n",
    "    if n <= 0:\n",
    "        print('blastoff')\n",
    "    else:\n",
    "        print(n)\n",
    "        countdown(n - 1)\n",
    "countdown(3)        "
   ]
  },
  {
   "cell_type": "markdown",
   "metadata": {},
   "source": [
    "For applying recursion you need to orby three laws:\n",
    "\n",
    "1) A recursive algorithm must have a base case.\n",
    "2) A recursive algorithm must change its state and move toward the base case.\n",
    "3) A recursive algorithm must call itself, recursively.\n",
    "\n",
    "Let’s look at each one of these laws in more detail. First, a base case is the condition that allows the algorithm to stop recursing. A base case is typically a problem that is small enough to solve directly. In the countdown algorithm the base case is when the number is 0.\n",
    "\n",
    "To obey the second law, we must arrange for a change of state that moves the algorithm toward the base case. A change of state means that some data that the algorithm is using is modified. Usually the data that represents our problem gets smaller in some way.\n",
    "\n",
    "The final law is that the algorithm must call itself. This is the very definition of recursion. Recursion is a confusing concept to many beginning programmers. As a novice programmer, you have learned that functions are good because you can take a large problem and break it up into smaller problems. The smaller problems can be solved by writing a function to solve each problem. When we talk about recursion it may seem that we are talking ourselves in circles. We have a problem to solve with a function, but that function solves the problem by calling itself! But the logic is not circular at all; the logic of recursion is an elegant expression of solving a problem by breaking it down into a smaller and easier problems.\n",
    "\n",
    "Another way of explaining it is for the Russian **Matryoshka DoLL** that hase multiple dolls inside of it. "
   ]
  },
  {
   "cell_type": "markdown",
   "metadata": {},
   "source": [
    "## Exercises\n",
    "\n",
    "### Exercise 8.1 (upper and lower cases)\n",
    "\n",
    "Make a recursive function cases(s) that given a string s, generates a list of all possible upper and lower case combinations of the letters in the string. E.g. cases('abcB') should return a list containing the following 16 strings ['abCb', 'abCB', 'abcb', 'abcB', 'aBCb', 'aBCB', 'aBcb', 'aBcB', 'AbCb', 'AbCB', 'Abcb', 'AbcB', 'ABCb', 'ABCB', 'ABcb', 'ABcB']."
   ]
  },
  {
   "cell_type": "code",
   "execution_count": 2,
   "metadata": {},
   "outputs": [],
   "source": [
    "def cases(s):\n",
    "    if s == \"\":  # Base Case\n",
    "        return [\"\"]\n",
    "\n",
    "    hoved = s[0]\n",
    "    haler = cases(s[1:])\n",
    "    Case = [hoved.lower(), hoved.upper()]  #)\n",
    "    return [case + hale for case in Case for hale in haler]"
   ]
  },
  {
   "cell_type": "code",
   "execution_count": 3,
   "metadata": {},
   "outputs": [
    {
     "data": {
      "text/plain": [
       "['abcb',\n",
       " 'abcB',\n",
       " 'abCb',\n",
       " 'abCB',\n",
       " 'aBcb',\n",
       " 'aBcB',\n",
       " 'aBCb',\n",
       " 'aBCB',\n",
       " 'Abcb',\n",
       " 'AbcB',\n",
       " 'AbCb',\n",
       " 'AbCB',\n",
       " 'ABcb',\n",
       " 'ABcB',\n",
       " 'ABCb',\n",
       " 'ABCB']"
      ]
     },
     "execution_count": 3,
     "metadata": {},
     "output_type": "execute_result"
    }
   ],
   "source": [
    "s = 'abcB'\n",
    "\n",
    "cases(s)"
   ]
  },
  {
   "cell_type": "markdown",
   "metadata": {},
   "source": [
    "### Exercise 8.2 (list subsets)\n",
    "\n",
    "Make a recursive function subsets(L) that given a list L returns a list of all subsets of L (each subset being a list). E.g. subsets([1, 2]) should return [[], [1], [2], [1, 2]]. The order of the returned lists can be arbitrary."
   ]
  },
  {
   "cell_type": "code",
   "execution_count": 4,
   "metadata": {},
   "outputs": [],
   "source": [
    "def l_s(ls):\n",
    "    if ls == []:\n",
    "        return [[]]\n",
    "    \n",
    "    x = l_s(ls[1:])\n",
    "    \n",
    "    return x + [[ls[0]] + y for y in x]"
   ]
  },
  {
   "cell_type": "code",
   "execution_count": 5,
   "metadata": {},
   "outputs": [
    {
     "data": {
      "text/plain": [
       "[[], [2], [1], [1, 2]]"
      ]
     },
     "execution_count": 5,
     "metadata": {},
     "output_type": "execute_result"
    }
   ],
   "source": [
    "lls = [1, 2]\n",
    "l_s(lls)"
   ]
  },
  {
   "cell_type": "markdown",
   "metadata": {},
   "source": [
    "### Exercise 8.3 (tree relabeling)\n",
    "\n",
    "Make a recursive function relabel(tree, new_names) that takes a tree tree and a dictionary new_names = {old_name: new_name, ...}, and returns a new tree where labels in the dictionary new_names are replaced by the corresponding values in the dictionary. Leaves not in the dictionary remain unchanged.\n",
    "\n",
    "Example. relabel(('a', ('b', 'c')), {'a': 'x', 'c': 'y'}) should return ('x', ('b', 'y')).\n",
    "\n"
   ]
  },
  {
   "cell_type": "code",
   "execution_count": 6,
   "metadata": {},
   "outputs": [],
   "source": [
    "def relabel(tree, new_names):\n",
    "    if isinstance(tree, str):\n",
    "        return new_names.get(tree, tree)\n",
    "    else:\n",
    "        return tuple([relabel(child, new_names) for child in tree])"
   ]
  },
  {
   "cell_type": "code",
   "execution_count": 7,
   "metadata": {},
   "outputs": [
    {
     "data": {
      "text/plain": [
       "('x', ('b', 'y'))"
      ]
     },
     "execution_count": 7,
     "metadata": {},
     "output_type": "execute_result"
    }
   ],
   "source": [
    "relabel(('a', ('b', 'c')), {'a': 'x', 'c': 'y'})"
   ]
  },
  {
   "cell_type": "markdown",
   "metadata": {},
   "source": [
    "### Exercise 8.4 (validate leaf-labeled binary trees)\n",
    "\n",
    "Assume we want to represent binary trees, where each leaf has a string as a label, by nested tuples. We require the leaves are labeled with distinct non-empty strings and all non-leaf nodes have exactly two children. E.g. ((('A', 'B'), 'C'), ('D', ('F', 'E'))) is a valid binary tree.\n",
    "\n",
    "Write a function validate_string_tuple(t) that checks, i.e. returns True or False, if the value t is a tuple only containing distinct strings, e.g. ('a', 'b', 'c').\n",
    "\n",
    "Write a recursive function valid_binary_tree(tree) program that checks, i.e. returns True or False, if the value tree is a recursive tuple representing a binary tree as described above.\n",
    "\n",
    "Hint. Use the method isinstance to check if a value is of class tuple or a str, and use a recursive function to traverse a tree. Collect all leaf labels in a list, and check if all leaves are distinct by converting to set."
   ]
  },
  {
   "cell_type": "code",
   "execution_count": 8,
   "metadata": {},
   "outputs": [
    {
     "data": {
      "text/plain": [
       "False"
      ]
     },
     "execution_count": 8,
     "metadata": {},
     "output_type": "execute_result"
    }
   ],
   "source": [
    "def validate_string_tuple(t):  # fancy\n",
    "    return isinstance(t, tuple) and all(\n",
    "        [isinstance(c, str) for c in t]) and len(t) == len(set(t))\n",
    "tt = ((('A', 'B'), 'C'), ('D', ('F', 'E')))\n",
    "validate_string_tuple(tt)"
   ]
  },
  {
   "cell_type": "markdown",
   "metadata": {},
   "source": [
    "### Exercise 8.6 - handin 4 (triplet distance - part II)\n",
    "\n",
    "This handin is a continuation of the previous handin. The code from the previous handin should be reused in this exercise. In this second part the aim should be to write elegant recursive code using Python's tuples and list comprehensions.\n",
    "\n",
    "Make a recursive function generate_tree(labels), that given a list of labels labels, returns a random binary tree where the list of leaf labels from left to right in the tree equals labels.\n",
    "\n",
    "Hint. Split the list labels at a random position into two nonempty parts left and right, and recursively construct the trees for the two parts.\n",
    "\n",
    "Example. generate_tree(['A', 'B', 'C', 'D', 'E', 'F']) could return ((('A', ('B', 'C')), ('D', 'E')), 'F')\n",
    "\n",
    "Make a recursive function generate_triplets(tree) that returns a pair (labels, triplets) where labels is a list of all leaf labels of tree, and triplets is a list of all canonical triplets anchored at some node of tree.\n",
    "\n",
    "Hint. Use isinstance(tree, str) to check if tree is a leaf.\n",
    "\n",
    "Example. generate_triplets(((('A', 'F'), 'B'), ('D', ('C', 'E')))) should return the following pair consisting of a list with the 6 leaf labels, and a list with the 20 canonical triplets anchored in the tree: (['A', 'F', 'B', 'D', 'C', 'E'], [('B', ('A', 'F')), ('D', ('C', 'E')), ('A', ('D', 'E')), ('A', ('C', 'D')), ('A', ('C', 'E')), ('F', ('D', 'E')), ('F', ('C', 'D')), ('F', ('C', 'E')), ('B', ('D', 'E')), ('B', ('C', 'D')), ('B', ('C', 'E')), ('D', ('A', 'F')), ('D', ('A', 'B')), ('D', ('B', 'F')), ('C', ('A', 'F')), ('C', ('A', 'B')), ('C', ('B', 'F')), ('E', ('A', 'F')), ('E', ('A', 'B')), ('E', ('B', 'F'))])\n",
    "\n",
    "Make a function triplet_distance(tree1, tree2) that computes the triplet distance between the trees tree1 and tree2.\n",
    "\n",
    "Hint. Recall that the triplet distance equals n · (n - 1) · (n - 2) / 6 minus the number of common triplets between tree1 and tree2, where n is the number of common labels in tree1 and tree2, and use Python set to handle the sets of computed triplets.\n",
    "\n",
    "Example. For the two trees above\n",
    "\n",
    "triplet_distance(((('A', 'F'), 'B'), ('D', ('C', 'E'))), (((('D', 'A'), 'B'), 'F'), ('C', 'E'))\n",
    "should return 10.\n",
    "\n",
    "What is the order of the tree sizes you can handle with generate_tree and triplet_distance in reasonable time - say about 10 seconds? Tens, hundreds, thousands, millions... of leaves? Use the function generate_tree to generate random trees of increasing sizes and measure the time for generate_tree and triplet_distance separately.\n",
    "\n",
    "(Optional) Make a function print_ascii_tree(tree) to print trees like the ones shown in part I of this exercise."
   ]
  },
  {
   "cell_type": "code",
   "execution_count": 9,
   "metadata": {},
   "outputs": [],
   "source": [
    "from random import randint\n",
    "from time import time"
   ]
  },
  {
   "cell_type": "code",
   "execution_count": 10,
   "metadata": {},
   "outputs": [
    {
     "name": "stdout",
     "output_type": "stream",
     "text": [
      "a) Træer:  ('A', ((('B', 'C'), 'D'), ('E', 'F')))\n"
     ]
    }
   ],
   "source": [
    "def generate_tree(L):\n",
    "    # base case\n",
    "    if len(L) == 1: \n",
    "        return L[0]\n",
    "    split = randint(1, len(L)-1)\n",
    "    left = L[:split]\n",
    "    right = L[split:]\n",
    "    return (generate_tree(left), generate_tree(right))\n",
    "\n",
    "L = ['A', 'B', 'C', 'D', 'E', 'F']\n",
    "print(\"a) Træer: \" ,generate_tree(L))"
   ]
  },
  {
   "cell_type": "code",
   "execution_count": 11,
   "metadata": {},
   "outputs": [
    {
     "name": "stdout",
     "output_type": "stream",
     "text": [
      "b) output:  (['A', 'F', 'B', 'D', 'C', 'E'], [('B', ('A', 'F')), ('D', ('C', 'E')), ('A', ('D', 'E')), ('A', ('C', 'D')), ('A', ('C', 'E')), ('F', ('D', 'E')), ('F', ('C', 'D')), ('F', ('C', 'E')), ('B', ('D', 'E')), ('B', ('C', 'D')), ('B', ('C', 'E')), ('D', ('A', 'F')), ('D', ('A', 'B')), ('D', ('B', 'F')), ('C', ('A', 'F')), ('C', ('A', 'B')), ('C', ('B', 'F')), ('E', ('A', 'F')), ('E', ('A', 'B')), ('E', ('B', 'F'))])\n"
     ]
    }
   ],
   "source": [
    "# b)\n",
    "\n",
    "# canonical_triplets er fra sidste afleverin\n",
    "def canonical_triplets(A, B):\n",
    "  can = [(x, (y,z)) for x in A for y in B for z in B if y < z]\n",
    "  return can\n",
    "\n",
    "# anchored_triplets er fra sidste afleverin\n",
    "def anchored_triplets(A,B):\n",
    "  left = canonical_triplets(A,B)\n",
    "  right = left\n",
    "  right += canonical_triplets(B,A)\n",
    "  return list(( right))\n",
    "\n",
    "def generate_triplets(T):\n",
    "  if isinstance(T, str):\n",
    "    return [T], []\n",
    "  else:\n",
    "    left = T[0]\n",
    "    right = T[1]\n",
    "    \n",
    "    left_labels, left_triplets = generate_triplets(left)\n",
    "    right_labels, right_triplets = generate_triplets(right)\n",
    "    \n",
    "    labels = left_labels + right_labels\n",
    "    triplets = left_triplets + right_triplets\n",
    "    \n",
    "    anchored_triplet = anchored_triplets(left_labels, right_labels)\n",
    "  return labels, triplets + anchored_triplet\n",
    "\n",
    "print(\"b) output: \" ,generate_triplets(((('A','F'),'B'),('D',('C','E')))) )"
   ]
  },
  {
   "cell_type": "code",
   "execution_count": 12,
   "metadata": {},
   "outputs": [
    {
     "name": "stdout",
     "output_type": "stream",
     "text": [
      "c) distance between trees:  10\n"
     ]
    }
   ],
   "source": [
    "def triplet_distance(T1, T2):\n",
    "  gen_T1 = generate_triplets(T1)\n",
    "  gen_T2 = generate_triplets(T2)\n",
    "  \n",
    "  n = len(gen_T1[0])\n",
    "  x = gen_T1[1]\n",
    "  y = gen_T2[1]\n",
    "  \n",
    "  intersec = len(set(x) & set(y))\n",
    "  \n",
    "  return (n * (n - 1) * (n - 2)) // 6 - intersec\n",
    "\n",
    "print(\"c) distance between trees: \",triplet_distance(((('A','F'),'B'),('D',('C','E'))), (((('D','A'),'B'),'F'),('C','E'))) )"
   ]
  },
  {
   "cell_type": "code",
   "execution_count": null,
   "metadata": {},
   "outputs": [],
   "source": []
  }
 ],
 "metadata": {
  "kernelspec": {
   "display_name": "Python 3.9.13 64-bit",
   "language": "python",
   "name": "python3"
  },
  "language_info": {
   "codemirror_mode": {
    "name": "ipython",
    "version": 3
   },
   "file_extension": ".py",
   "mimetype": "text/x-python",
   "name": "python",
   "nbconvert_exporter": "python",
   "pygments_lexer": "ipython3",
   "version": "3.9.12"
  },
  "vscode": {
   "interpreter": {
    "hash": "b0fa6594d8f4cbf19f97940f81e996739fb7646882a419484c72d19e05852a7e"
   }
  }
 },
 "nbformat": 4,
 "nbformat_minor": 2
}