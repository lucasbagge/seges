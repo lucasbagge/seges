{
 "cells": [
  {
   "cell_type": "markdown",
   "metadata": {},
   "source": [
    "# Learning Pytorch\n",
    "\n",
    "* [Youtube video side](https://www.youtube.com/watch?v=V_xro1bcAuA&t=40s)\n",
    "* [Kode](https://www.youtube.com/redirect?event=video_description&redir_token=QUFFLUhqa1hUcDlKNFBOaVJPMHh5WTBGSUdzVm5zaHlfUXxBQ3Jtc0ttVWh5OUhGSGtON1ZyRkZJcXM3TGtrSmV6eUIyckRlQU1fX2xLVDN1VDJkMkgtVHg4QmJyUE14NjdBVzh1MGVLR01MSWV6WGVmSzhTc3JjWm9aVkV3T01TN3hua1NaWDVlUWYxUlowUGE0RGRMVjZ2SQ&q=https%3A%2F%2Fgithub.com%2Fmrdbourke%2Fpytorch-deep-learning&v=V_xro1bcAuA)\n",
    "* [learnpytorch](https://www.learnpytorch.io)"
   ]
  },
  {
   "cell_type": "code",
   "execution_count": 1,
   "metadata": {},
   "outputs": [],
   "source": [
    "import torch\n",
    "import pandas as pd\n",
    "import numpy as np"
   ]
  },
  {
   "cell_type": "markdown",
   "metadata": {},
   "source": [
    "# Tesnor\n",
    "\n",
    "Måden at repræsenter data på. \n",
    "\n",
    "* Skalar tensor, \n",
    "* Vector\n",
    "  * Husk at forskellen mellem dimension og shape \n",
    "* Random tensor er vigtig da Neural netværk starter med tilfældige tal men som så finder et mønster. "
   ]
  },
  {
   "cell_type": "code",
   "execution_count": 2,
   "metadata": {},
   "outputs": [
    {
     "name": "stdout",
     "output_type": "stream",
     "text": [
      "Dimension af skalar \n",
      " 0\n",
      "items af skalar \n",
      " 7\n",
      "vector af skalar \n",
      " tensor([7, 7])\n",
      "vector af dimension \n",
      " 1\n",
      "random \n",
      " tensor([[0.3518, 0.4526, 0.7451, 0.2036],\n",
      "        [0.1532, 0.0061, 0.5654, 0.5160],\n",
      "        [0.3399, 0.4191, 0.8197, 0.8368]])\n"
     ]
    }
   ],
   "source": [
    "scalar = torch.tensor(7)\n",
    "vector = torch.tensor([7, 7])\n",
    "\n",
    "random_tensro = torch.rand(3, 4)\n",
    "\n",
    "print('Dimension af skalar \\n', scalar.ndim)\n",
    "print('items af skalar \\n', scalar.item())\n",
    "\n",
    "print('vector af skalar \\n', vector)\n",
    "print('vector af dimension \\n', vector.ndim)\n",
    "\n",
    "print('random \\n', random_tensro)"
   ]
  },
  {
   "cell_type": "code",
   "execution_count": 3,
   "metadata": {},
   "outputs": [
    {
     "data": {
      "text/plain": [
       "tensor([[0., 0., 0., 0.],\n",
       "        [0., 0., 0., 0.],\n",
       "        [0., 0., 0., 0.]])"
      ]
     },
     "execution_count": 3,
     "metadata": {},
     "output_type": "execute_result"
    }
   ],
   "source": [
    "# zero\n",
    "zeroas = torch.zeros(size = (3, 4))\n",
    "zeroas"
   ]
  },
  {
   "cell_type": "markdown",
   "metadata": {},
   "source": [
    "vigtig at tensor har rette type, shape og device (om cuda, cpu eller gpu)"
   ]
  },
  {
   "cell_type": "markdown",
   "metadata": {},
   "source": [
    "# Pytorch workflow\n"
   ]
  },
  {
   "cell_type": "code",
   "execution_count": 4,
   "metadata": {},
   "outputs": [],
   "source": [
    "import torch\n",
    "from torch import nn\n",
    "import matplotlib.pyplot as plt"
   ]
  },
  {
   "cell_type": "markdown",
   "metadata": {},
   "source": [
    "# Data (preparing and loading)\n",
    "\n",
    "Lav data *know* with used of linear regression"
   ]
  },
  {
   "cell_type": "code",
   "execution_count": 5,
   "metadata": {},
   "outputs": [
    {
     "data": {
      "text/plain": [
       "(tensor([[0.0000],\n",
       "         [0.0200],\n",
       "         [0.0400],\n",
       "         [0.0600],\n",
       "         [0.0800],\n",
       "         [0.1000],\n",
       "         [0.1200],\n",
       "         [0.1400],\n",
       "         [0.1600],\n",
       "         [0.1800]]),\n",
       " tensor([[0.3000],\n",
       "         [0.3140],\n",
       "         [0.3280],\n",
       "         [0.3420],\n",
       "         [0.3560],\n",
       "         [0.3700],\n",
       "         [0.3840],\n",
       "         [0.3980],\n",
       "         [0.4120],\n",
       "         [0.4260]]))"
      ]
     },
     "execution_count": 5,
     "metadata": {},
     "output_type": "execute_result"
    }
   ],
   "source": [
    "from pyparsing import srange\n",
    "\n",
    "\n",
    "weights = 0.7\n",
    "bias = 0.3\n",
    "\n",
    "start = 0\n",
    "end = 1\n",
    "step = 0.02\n",
    "\n",
    "X = torch.arange(start, end, step).unsqueeze(dim=1) # unsqueeze tilføjer en dimension.\n",
    "y = weights * X + bias\n",
    "\n",
    "X[:10], y[:10]"
   ]
  },
  {
   "cell_type": "code",
   "execution_count": 6,
   "metadata": {},
   "outputs": [
    {
     "data": {
      "text/plain": [
       "(50, 50)"
      ]
     },
     "execution_count": 6,
     "metadata": {},
     "output_type": "execute_result"
    }
   ],
   "source": [
    "len(X), len(y)"
   ]
  },
  {
   "cell_type": "code",
   "execution_count": 7,
   "metadata": {},
   "outputs": [
    {
     "data": {
      "text/plain": [
       "(40, 10)"
      ]
     },
     "execution_count": 7,
     "metadata": {},
     "output_type": "execute_result"
    }
   ],
   "source": [
    "# Splitting into \n",
    "train_split = int(0.8 * len(X))\n",
    "\n",
    "X_train, y_train = X[:train_split], y[:train_split]\n",
    "X_test, y_test = X[train_split:], y[train_split:]\n",
    "\n",
    "len(X_train), len(X_test)"
   ]
  },
  {
   "cell_type": "code",
   "execution_count": 8,
   "metadata": {},
   "outputs": [],
   "source": [
    "def plot_predictions(train_data = X_train,\n",
    "                     train_labels = y_train,\n",
    "                     test_data = X_test,\n",
    "                     test_labels = y_test,\n",
    "                     predictions = None):\n",
    "    \"\"\"_summary_\n",
    "\n",
    "    Args:\n",
    "        train_data (_type_, optional): _description_. Defaults to X_train.\n",
    "        train_labels (_type_, optional): _description_. Defaults to y_train.\n",
    "        test_data (_type_, optional): _description_. Defaults to X_test.\n",
    "        test_labels (_type_, optional): _description_. Defaults to y_test.\n",
    "        predictions (_type_, optional): _description_. Defaults to None.\n",
    "    \"\"\"\n",
    "    plt.figure(figsize=(10, 7))\n",
    "    plt.scatter(train_data, train_labels, c = 'b', s = 4, label = 'Training Data')\n",
    "    \n",
    "    plt.scatter(test_data, test_labels, c = 'g', s = 4, label = 'Test Data')\n",
    "    \n",
    "    if predictions != None:\n",
    "        plt.scatter(test_data, predictions, c = 'r', s = 4, label = 'Predictions')\n",
    "        \n",
    "    plt.legend(prop = {'size': 14}); "
   ]
  },
  {
   "cell_type": "code",
   "execution_count": 9,
   "metadata": {},
   "outputs": [
    {
     "data": {
      "image/png": "[encoded data removed]",
      "text/plain": [
       "<Figure size 1000x700 with 1 Axes>"
      ]
     },
     "metadata": {},
     "output_type": "display_data"
    }
   ],
   "source": [
    "plot_predictions()"
   ]
  },
  {
   "cell_type": "code",
   "execution_count": 10,
   "metadata": {},
   "outputs": [],
   "source": [
    "# Build model\n",
    "## Laver inheriant form nn.Module. Der indeholder en masse\n",
    "class LinearRegressionModel(nn.Module):\n",
    "    def __init__(self):\n",
    "        super().__init__()\n",
    "        self.weights = nn.Parameter(torch.randn(1, \n",
    "                                                requires_grad=True,\n",
    "                                                dtype = torch.float))\n",
    "        self.bias = nn.Parameter(torch.randn(1,\n",
    "                                             requires_grad=True,\n",
    "                                             dtype = torch.float))\n",
    "    def forward(self, x: torch.Tensor) -> torch.Tensor:\n",
    "        return self.weights * x + self.bias"
   ]
  },
  {
   "cell_type": "markdown",
   "metadata": {},
   "source": [
    "What is super()?\n",
    "\n",
    "* It \n",
    "\n"
   ]
  },
  {
   "cell_type": "markdown",
   "metadata": {},
   "source": [
    "# Main classes\n",
    "\n",
    "* torch.nn -> neruale netværk\n",
    "* torch.Parameter -> ting vi vil lære\n",
    "* torch.nn.Moduel -> Base klassen for alle neurale netværk. \n",
    "* torch.optim -> optimerings algoritmer.\n",
    "* def forward() -> Alle nn.Module kræver vi skal overskride forward. Den definer hvad der ske ri forward beregningen."
   ]
  },
  {
   "cell_type": "code",
   "execution_count": 11,
   "metadata": {},
   "outputs": [
    {
     "data": {
      "text/plain": [
       "tensor([0.5042])"
      ]
     },
     "execution_count": 11,
     "metadata": {},
     "output_type": "execute_result"
    }
   ],
   "source": [
    "torch.randn(1)"
   ]
  },
  {
   "cell_type": "code",
   "execution_count": 12,
   "metadata": {},
   "outputs": [
    {
     "data": {
      "text/plain": [
       "[Parameter containing:\n",
       " tensor([0.3367], requires_grad=True),\n",
       " Parameter containing:\n",
       " tensor([0.1288], requires_grad=True)]"
      ]
     },
     "execution_count": 12,
     "metadata": {},
     "output_type": "execute_result"
    }
   ],
   "source": [
    "# Se output for modellen vi har lavet\n",
    "\n",
    "## Random seed\n",
    "\n",
    "torch.manual_seed(42)\n",
    "\n",
    "model_0 = LinearRegressionModel()\n",
    "\n",
    "# Tjek parameterne\n",
    "list(model_0.parameters())"
   ]
  },
  {
   "cell_type": "code",
   "execution_count": 13,
   "metadata": {},
   "outputs": [
    {
     "data": {
      "text/plain": [
       "OrderedDict([('weights', tensor([0.3367])), ('bias', tensor([0.1288]))])"
      ]
     },
     "execution_count": 13,
     "metadata": {},
     "output_type": "execute_result"
    }
   ],
   "source": [
    "# List named parameter\n",
    "\n",
    "model_0.state_dict()"
   ]
  },
  {
   "cell_type": "code",
   "execution_count": 14,
   "metadata": {},
   "outputs": [
    {
     "data": {
      "text/plain": [
       "(0.7, 0.3)"
      ]
     },
     "execution_count": 14,
     "metadata": {},
     "output_type": "execute_result"
    }
   ],
   "source": [
    "weights, bias "
   ]
  },
  {
   "cell_type": "markdown",
   "metadata": {},
   "source": [
    "# Making prediction with `torch.inference_mode()`\n",
    "\n"
   ]
  },
  {
   "cell_type": "code",
   "execution_count": 15,
   "metadata": {},
   "outputs": [
    {
     "data": {
      "text/plain": [
       "tensor([[0.3982],\n",
       "        [0.4049],\n",
       "        [0.4116],\n",
       "        [0.4184],\n",
       "        [0.4251],\n",
       "        [0.4318],\n",
       "        [0.4386],\n",
       "        [0.4453],\n",
       "        [0.4520],\n",
       "        [0.4588]], grad_fn=<AddBackward0>)"
      ]
     },
     "execution_count": 15,
     "metadata": {},
     "output_type": "execute_result"
    }
   ],
   "source": [
    "# Inference mode is a content manager and is important\n",
    "# We loose the tracking of other things so we can keep things faster. \n",
    "\n",
    "y_preds2 = model_0(X_test)\n",
    "y_preds2"
   ]
  },
  {
   "cell_type": "code",
   "execution_count": 16,
   "metadata": {},
   "outputs": [
    {
     "data": {
      "text/plain": [
       "tensor([[0.3982],\n",
       "        [0.4049],\n",
       "        [0.4116],\n",
       "        [0.4184],\n",
       "        [0.4251],\n",
       "        [0.4318],\n",
       "        [0.4386],\n",
       "        [0.4453],\n",
       "        [0.4520],\n",
       "        [0.4588]])"
      ]
     },
     "execution_count": 16,
     "metadata": {},
     "output_type": "execute_result"
    }
   ],
   "source": [
    "with torch.inference_mode():\n",
    "    y_preds = model_0(X_test)\n",
    "\n",
    "y_preds"
   ]
  },
  {
   "cell_type": "code",
   "execution_count": 17,
   "metadata": {},
   "outputs": [
    {
     "data": {
      "image/png": "[encoded data removed]",
      "text/plain": [
       "<Figure size 1000x700 with 1 Axes>"
      ]
     },
     "metadata": {},
     "output_type": "display_data"
    }
   ],
   "source": [
    "plot_predictions(predictions=y_preds)"
   ]
  },
  {
   "cell_type": "markdown",
   "metadata": {},
   "source": [
    "## Train model\n",
    "\n",
    "Mening er vi kommer til at kende de ukendte variabler. \n",
    "\n",
    "VI kan træner loss og optimizer\n",
    "\n"
   ]
  },
  {
   "cell_type": "code",
   "execution_count": 18,
   "metadata": {},
   "outputs": [
    {
     "data": {
      "text/plain": [
       "[Parameter containing:\n",
       " tensor([0.3367], requires_grad=True),\n",
       " Parameter containing:\n",
       " tensor([0.1288], requires_grad=True)]"
      ]
     },
     "execution_count": 18,
     "metadata": {},
     "output_type": "execute_result"
    }
   ],
   "source": [
    "list(model_0.parameters())"
   ]
  },
  {
   "cell_type": "code",
   "execution_count": 19,
   "metadata": {},
   "outputs": [
    {
     "data": {
      "text/plain": [
       "OrderedDict([('weights', tensor([0.3367])), ('bias', tensor([0.1288]))])"
      ]
     },
     "execution_count": 19,
     "metadata": {},
     "output_type": "execute_result"
    }
   ],
   "source": [
    "model_0.state_dict()"
   ]
  },
  {
   "cell_type": "code",
   "execution_count": 20,
   "metadata": {},
   "outputs": [],
   "source": [
    "# Setup loss\n",
    "loss_fn = nn.L1Loss()\n",
    "\n",
    "# Setup optimizer\n",
    "optimizer = (\n",
    "    torch\n",
    "    .optim\n",
    "    .SGD(params = model_0.parameters(),\n",
    "                            lr = 0.01) # Ændre på vægten men hvor deciamlen er den so ændres.\n",
    ")"
   ]
  },
  {
   "cell_type": "markdown",
   "metadata": {},
   "source": [
    "## Traning loop for optimize parameter\n",
    "\n",
    "0. loop thoug data\n",
    "1. forward pass also calle dforward propagation\n",
    "2. calculate loss (compar forward pass prediction to ground truth)\n",
    "3. optimize zero grad\n",
    "4. loss backward - move backward to calculat ethe gradients \n",
    "5. optimizer step - adjust paramrter\n",
    "\n",
    "* E"
   ]
  },
  {
   "cell_type": "code",
   "execution_count": 21,
   "metadata": {},
   "outputs": [
    {
     "name": "stdout",
     "output_type": "stream",
     "text": [
      "Loss: {tensor(0.3129, grad_fn=<MeanBackward0>)}\n",
      "Epoch:  0 | Test 0.31288138031959534 | Test loss 0.48106518387794495\n",
      "OrderedDict([('weights', tensor([0.3406])), ('bias', tensor([0.1388]))])\n",
      "Loss: {tensor(0.3014, grad_fn=<MeanBackward0>)}\n",
      "Loss: {tensor(0.2898, grad_fn=<MeanBackward0>)}\n",
      "Loss: {tensor(0.2783, grad_fn=<MeanBackward0>)}\n",
      "Loss: {tensor(0.2668, grad_fn=<MeanBackward0>)}\n",
      "Loss: {tensor(0.2553, grad_fn=<MeanBackward0>)}\n",
      "Loss: {tensor(0.2438, grad_fn=<MeanBackward0>)}\n",
      "Loss: {tensor(0.2322, grad_fn=<MeanBackward0>)}\n",
      "Loss: {tensor(0.2207, grad_fn=<MeanBackward0>)}\n",
      "Loss: {tensor(0.2092, grad_fn=<MeanBackward0>)}\n",
      "Loss: {tensor(0.1977, grad_fn=<MeanBackward0>)}\n",
      "Loss: {tensor(0.1862, grad_fn=<MeanBackward0>)}\n",
      "Loss: {tensor(0.1746, grad_fn=<MeanBackward0>)}\n",
      "Loss: {tensor(0.1631, grad_fn=<MeanBackward0>)}\n",
      "Loss: {tensor(0.1516, grad_fn=<MeanBackward0>)}\n",
      "Loss: {tensor(0.1401, grad_fn=<MeanBackward0>)}\n",
      "Loss: {tensor(0.1285, grad_fn=<MeanBackward0>)}\n",
      "Loss: {tensor(0.1170, grad_fn=<MeanBackward0>)}\n",
      "Loss: {tensor(0.1061, grad_fn=<MeanBackward0>)}\n",
      "Loss: {tensor(0.0968, grad_fn=<MeanBackward0>)}\n",
      "Loss: {tensor(0.0891, grad_fn=<MeanBackward0>)}\n",
      "Loss: {tensor(0.0823, grad_fn=<MeanBackward0>)}\n",
      "Loss: {tensor(0.0764, grad_fn=<MeanBackward0>)}\n",
      "Loss: {tensor(0.0716, grad_fn=<MeanBackward0>)}\n",
      "Loss: {tensor(0.0675, grad_fn=<MeanBackward0>)}\n",
      "Loss: {tensor(0.0640, grad_fn=<MeanBackward0>)}\n",
      "Loss: {tensor(0.0610, grad_fn=<MeanBackward0>)}\n",
      "Loss: {tensor(0.0585, grad_fn=<MeanBackward0>)}\n",
      "Loss: {tensor(0.0564, grad_fn=<MeanBackward0>)}\n",
      "Loss: {tensor(0.0546, grad_fn=<MeanBackward0>)}\n",
      "Loss: {tensor(0.0531, grad_fn=<MeanBackward0>)}\n",
      "Loss: {tensor(0.0518, grad_fn=<MeanBackward0>)}\n",
      "Loss: {tensor(0.0507, grad_fn=<MeanBackward0>)}\n",
      "Loss: {tensor(0.0498, grad_fn=<MeanBackward0>)}\n",
      "Loss: {tensor(0.0490, grad_fn=<MeanBackward0>)}\n",
      "Loss: {tensor(0.0482, grad_fn=<MeanBackward0>)}\n",
      "Loss: {tensor(0.0475, grad_fn=<MeanBackward0>)}\n",
      "Loss: {tensor(0.0469, grad_fn=<MeanBackward0>)}\n",
      "Loss: {tensor(0.0464, grad_fn=<MeanBackward0>)}\n",
      "Loss: {tensor(0.0459, grad_fn=<MeanBackward0>)}\n",
      "Loss: {tensor(0.0454, grad_fn=<MeanBackward0>)}\n",
      "Epoch:  40 | Test 0.04543796554207802 | Test loss 0.11360953003168106\n",
      "OrderedDict([('weights', tensor([0.4748])), ('bias', tensor([0.3868]))])\n",
      "Loss: {tensor(0.0450, grad_fn=<MeanBackward0>)}\n",
      "Loss: {tensor(0.0446, grad_fn=<MeanBackward0>)}\n",
      "Loss: {tensor(0.0442, grad_fn=<MeanBackward0>)}\n",
      "Loss: {tensor(0.0438, grad_fn=<MeanBackward0>)}\n",
      "Loss: {tensor(0.0434, grad_fn=<MeanBackward0>)}\n",
      "Loss: {tensor(0.0431, grad_fn=<MeanBackward0>)}\n",
      "Loss: {tensor(0.0427, grad_fn=<MeanBackward0>)}\n",
      "Loss: {tensor(0.0424, grad_fn=<MeanBackward0>)}\n",
      "Loss: {tensor(0.0420, grad_fn=<MeanBackward0>)}\n",
      "Loss: {tensor(0.0417, grad_fn=<MeanBackward0>)}\n",
      "Loss: {tensor(0.0413, grad_fn=<MeanBackward0>)}\n",
      "Loss: {tensor(0.0410, grad_fn=<MeanBackward0>)}\n",
      "Loss: {tensor(0.0406, grad_fn=<MeanBackward0>)}\n",
      "Loss: {tensor(0.0403, grad_fn=<MeanBackward0>)}\n",
      "Loss: {tensor(0.0399, grad_fn=<MeanBackward0>)}\n",
      "Loss: {tensor(0.0396, grad_fn=<MeanBackward0>)}\n",
      "Loss: {tensor(0.0392, grad_fn=<MeanBackward0>)}\n",
      "Loss: {tensor(0.0389, grad_fn=<MeanBackward0>)}\n",
      "Loss: {tensor(0.0385, grad_fn=<MeanBackward0>)}\n",
      "Loss: {tensor(0.0382, grad_fn=<MeanBackward0>)}\n",
      "Loss: {tensor(0.0379, grad_fn=<MeanBackward0>)}\n",
      "Loss: {tensor(0.0375, grad_fn=<MeanBackward0>)}\n",
      "Loss: {tensor(0.0372, grad_fn=<MeanBackward0>)}\n",
      "Loss: {tensor(0.0368, grad_fn=<MeanBackward0>)}\n",
      "Loss: {tensor(0.0365, grad_fn=<MeanBackward0>)}\n",
      "Loss: {tensor(0.0361, grad_fn=<MeanBackward0>)}\n",
      "Loss: {tensor(0.0358, grad_fn=<MeanBackward0>)}\n",
      "Loss: {tensor(0.0354, grad_fn=<MeanBackward0>)}\n",
      "Loss: {tensor(0.0351, grad_fn=<MeanBackward0>)}\n",
      "Loss: {tensor(0.0348, grad_fn=<MeanBackward0>)}\n",
      "Loss: {tensor(0.0344, grad_fn=<MeanBackward0>)}\n",
      "Loss: {tensor(0.0341, grad_fn=<MeanBackward0>)}\n",
      "Loss: {tensor(0.0337, grad_fn=<MeanBackward0>)}\n",
      "Loss: {tensor(0.0334, grad_fn=<MeanBackward0>)}\n",
      "Loss: {tensor(0.0330, grad_fn=<MeanBackward0>)}\n",
      "Loss: {tensor(0.0327, grad_fn=<MeanBackward0>)}\n",
      "Loss: {tensor(0.0324, grad_fn=<MeanBackward0>)}\n",
      "Loss: {tensor(0.0320, grad_fn=<MeanBackward0>)}\n",
      "Loss: {tensor(0.0317, grad_fn=<MeanBackward0>)}\n",
      "Loss: {tensor(0.0313, grad_fn=<MeanBackward0>)}\n",
      "Epoch:  80 | Test 0.03132382780313492 | Test loss 0.07232122868299484\n",
      "OrderedDict([('weights', tensor([0.5459])), ('bias', tensor([0.3648]))])\n",
      "Loss: {tensor(0.0310, grad_fn=<MeanBackward0>)}\n",
      "Loss: {tensor(0.0306, grad_fn=<MeanBackward0>)}\n",
      "Loss: {tensor(0.0303, grad_fn=<MeanBackward0>)}\n",
      "Loss: {tensor(0.0300, grad_fn=<MeanBackward0>)}\n",
      "Loss: {tensor(0.0296, grad_fn=<MeanBackward0>)}\n",
      "Loss: {tensor(0.0293, grad_fn=<MeanBackward0>)}\n",
      "Loss: {tensor(0.0289, grad_fn=<MeanBackward0>)}\n",
      "Loss: {tensor(0.0286, grad_fn=<MeanBackward0>)}\n",
      "Loss: {tensor(0.0282, grad_fn=<MeanBackward0>)}\n",
      "Loss: {tensor(0.0279, grad_fn=<MeanBackward0>)}\n",
      "Loss: {tensor(0.0275, grad_fn=<MeanBackward0>)}\n",
      "Loss: {tensor(0.0272, grad_fn=<MeanBackward0>)}\n",
      "Loss: {tensor(0.0269, grad_fn=<MeanBackward0>)}\n",
      "Loss: {tensor(0.0265, grad_fn=<MeanBackward0>)}\n",
      "Loss: {tensor(0.0262, grad_fn=<MeanBackward0>)}\n",
      "Loss: {tensor(0.0258, grad_fn=<MeanBackward0>)}\n",
      "Loss: {tensor(0.0255, grad_fn=<MeanBackward0>)}\n",
      "Loss: {tensor(0.0251, grad_fn=<MeanBackward0>)}\n",
      "Loss: {tensor(0.0248, grad_fn=<MeanBackward0>)}\n",
      "Loss: {tensor(0.0245, grad_fn=<MeanBackward0>)}\n",
      "Loss: {tensor(0.0241, grad_fn=<MeanBackward0>)}\n",
      "Loss: {tensor(0.0238, grad_fn=<MeanBackward0>)}\n",
      "Loss: {tensor(0.0234, grad_fn=<MeanBackward0>)}\n",
      "Loss: {tensor(0.0231, grad_fn=<MeanBackward0>)}\n",
      "Loss: {tensor(0.0227, grad_fn=<MeanBackward0>)}\n",
      "Loss: {tensor(0.0224, grad_fn=<MeanBackward0>)}\n",
      "Loss: {tensor(0.0221, grad_fn=<MeanBackward0>)}\n",
      "Loss: {tensor(0.0217, grad_fn=<MeanBackward0>)}\n",
      "Loss: {tensor(0.0214, grad_fn=<MeanBackward0>)}\n",
      "Loss: {tensor(0.0210, grad_fn=<MeanBackward0>)}\n",
      "Loss: {tensor(0.0207, grad_fn=<MeanBackward0>)}\n",
      "Loss: {tensor(0.0203, grad_fn=<MeanBackward0>)}\n",
      "Loss: {tensor(0.0200, grad_fn=<MeanBackward0>)}\n",
      "Loss: {tensor(0.0196, grad_fn=<MeanBackward0>)}\n",
      "Loss: {tensor(0.0193, grad_fn=<MeanBackward0>)}\n",
      "Loss: {tensor(0.0190, grad_fn=<MeanBackward0>)}\n",
      "Loss: {tensor(0.0186, grad_fn=<MeanBackward0>)}\n",
      "Loss: {tensor(0.0183, grad_fn=<MeanBackward0>)}\n",
      "Loss: {tensor(0.0179, grad_fn=<MeanBackward0>)}\n",
      "Loss: {tensor(0.0176, grad_fn=<MeanBackward0>)}\n",
      "Epoch:  120 | Test 0.01758546568453312 | Test loss 0.04060482233762741\n",
      "OrderedDict([('weights', tensor([0.6141])), ('bias', tensor([0.3358]))])\n",
      "Loss: {tensor(0.0172, grad_fn=<MeanBackward0>)}\n",
      "Loss: {tensor(0.0169, grad_fn=<MeanBackward0>)}\n",
      "Loss: {tensor(0.0166, grad_fn=<MeanBackward0>)}\n",
      "Loss: {tensor(0.0162, grad_fn=<MeanBackward0>)}\n",
      "Loss: {tensor(0.0159, grad_fn=<MeanBackward0>)}\n",
      "Loss: {tensor(0.0155, grad_fn=<MeanBackward0>)}\n",
      "Loss: {tensor(0.0152, grad_fn=<MeanBackward0>)}\n",
      "Loss: {tensor(0.0148, grad_fn=<MeanBackward0>)}\n",
      "Loss: {tensor(0.0145, grad_fn=<MeanBackward0>)}\n",
      "Loss: {tensor(0.0142, grad_fn=<MeanBackward0>)}\n",
      "Loss: {tensor(0.0138, grad_fn=<MeanBackward0>)}\n",
      "Loss: {tensor(0.0135, grad_fn=<MeanBackward0>)}\n",
      "Loss: {tensor(0.0131, grad_fn=<MeanBackward0>)}\n",
      "Loss: {tensor(0.0128, grad_fn=<MeanBackward0>)}\n",
      "Loss: {tensor(0.0124, grad_fn=<MeanBackward0>)}\n",
      "Loss: {tensor(0.0121, grad_fn=<MeanBackward0>)}\n",
      "Loss: {tensor(0.0118, grad_fn=<MeanBackward0>)}\n",
      "Loss: {tensor(0.0114, grad_fn=<MeanBackward0>)}\n",
      "Loss: {tensor(0.0111, grad_fn=<MeanBackward0>)}\n",
      "Loss: {tensor(0.0107, grad_fn=<MeanBackward0>)}\n",
      "Loss: {tensor(0.0104, grad_fn=<MeanBackward0>)}\n",
      "Loss: {tensor(0.0100, grad_fn=<MeanBackward0>)}\n",
      "Loss: {tensor(0.0097, grad_fn=<MeanBackward0>)}\n",
      "Loss: {tensor(0.0093, grad_fn=<MeanBackward0>)}\n",
      "Loss: {tensor(0.0090, grad_fn=<MeanBackward0>)}\n",
      "Loss: {tensor(0.0087, grad_fn=<MeanBackward0>)}\n",
      "Loss: {tensor(0.0083, grad_fn=<MeanBackward0>)}\n",
      "Loss: {tensor(0.0080, grad_fn=<MeanBackward0>)}\n",
      "Loss: {tensor(0.0076, grad_fn=<MeanBackward0>)}\n",
      "Loss: {tensor(0.0073, grad_fn=<MeanBackward0>)}\n",
      "Loss: {tensor(0.0069, grad_fn=<MeanBackward0>)}\n",
      "Loss: {tensor(0.0066, grad_fn=<MeanBackward0>)}\n",
      "Loss: {tensor(0.0063, grad_fn=<MeanBackward0>)}\n",
      "Loss: {tensor(0.0059, grad_fn=<MeanBackward0>)}\n",
      "Loss: {tensor(0.0056, grad_fn=<MeanBackward0>)}\n",
      "Loss: {tensor(0.0052, grad_fn=<MeanBackward0>)}\n",
      "Loss: {tensor(0.0049, grad_fn=<MeanBackward0>)}\n",
      "Loss: {tensor(0.0045, grad_fn=<MeanBackward0>)}\n",
      "Loss: {tensor(0.0042, grad_fn=<MeanBackward0>)}\n",
      "Loss: {tensor(0.0039, grad_fn=<MeanBackward0>)}\n",
      "Epoch:  160 | Test 0.0038517764769494534 | Test loss 0.008201557211577892\n",
      "OrderedDict([('weights', tensor([0.6826])), ('bias', tensor([0.3073]))])\n",
      "Loss: {tensor(0.0035, grad_fn=<MeanBackward0>)}\n",
      "Loss: {tensor(0.0032, grad_fn=<MeanBackward0>)}\n",
      "Loss: {tensor(0.0028, grad_fn=<MeanBackward0>)}\n",
      "Loss: {tensor(0.0025, grad_fn=<MeanBackward0>)}\n",
      "Loss: {tensor(0.0021, grad_fn=<MeanBackward0>)}\n",
      "Loss: {tensor(0.0018, grad_fn=<MeanBackward0>)}\n",
      "Loss: {tensor(0.0015, grad_fn=<MeanBackward0>)}\n",
      "Loss: {tensor(0.0012, grad_fn=<MeanBackward0>)}\n",
      "Loss: {tensor(0.0026, grad_fn=<MeanBackward0>)}\n",
      "Loss: {tensor(0.0089, grad_fn=<MeanBackward0>)}\n",
      "Loss: {tensor(0.0026, grad_fn=<MeanBackward0>)}\n",
      "Loss: {tensor(0.0089, grad_fn=<MeanBackward0>)}\n",
      "Loss: {tensor(0.0026, grad_fn=<MeanBackward0>)}\n",
      "Loss: {tensor(0.0089, grad_fn=<MeanBackward0>)}\n",
      "Loss: {tensor(0.0026, grad_fn=<MeanBackward0>)}\n",
      "Loss: {tensor(0.0089, grad_fn=<MeanBackward0>)}\n",
      "Loss: {tensor(0.0026, grad_fn=<MeanBackward0>)}\n",
      "Loss: {tensor(0.0089, grad_fn=<MeanBackward0>)}\n",
      "Loss: {tensor(0.0026, grad_fn=<MeanBackward0>)}\n",
      "Loss: {tensor(0.0089, grad_fn=<MeanBackward0>)}\n",
      "Loss: {tensor(0.0026, grad_fn=<MeanBackward0>)}\n",
      "Loss: {tensor(0.0089, grad_fn=<MeanBackward0>)}\n",
      "Loss: {tensor(0.0026, grad_fn=<MeanBackward0>)}\n",
      "Loss: {tensor(0.0089, grad_fn=<MeanBackward0>)}\n",
      "Loss: {tensor(0.0026, grad_fn=<MeanBackward0>)}\n",
      "Loss: {tensor(0.0089, grad_fn=<MeanBackward0>)}\n",
      "Loss: {tensor(0.0026, grad_fn=<MeanBackward0>)}\n",
      "Loss: {tensor(0.0089, grad_fn=<MeanBackward0>)}\n",
      "Loss: {tensor(0.0026, grad_fn=<MeanBackward0>)}\n",
      "Loss: {tensor(0.0089, grad_fn=<MeanBackward0>)}\n",
      "Loss: {tensor(0.0026, grad_fn=<MeanBackward0>)}\n",
      "Loss: {tensor(0.0089, grad_fn=<MeanBackward0>)}\n",
      "Loss: {tensor(0.0026, grad_fn=<MeanBackward0>)}\n",
      "Loss: {tensor(0.0089, grad_fn=<MeanBackward0>)}\n",
      "Loss: {tensor(0.0026, grad_fn=<MeanBackward0>)}\n",
      "Loss: {tensor(0.0089, grad_fn=<MeanBackward0>)}\n",
      "Loss: {tensor(0.0026, grad_fn=<MeanBackward0>)}\n",
      "Loss: {tensor(0.0089, grad_fn=<MeanBackward0>)}\n",
      "Loss: {tensor(0.0026, grad_fn=<MeanBackward0>)}\n"
     ]
    }
   ],
   "source": [
    "torch.manual_seed(123)\n",
    "\n",
    "\n",
    "\n",
    "# loop though the data (because we set epochs ourselves it is a hyperparameter)\n",
    "epochs = 200\n",
    "\n",
    "epochs_count = []\n",
    "loss_values = []\n",
    "test_loss_value = []\n",
    "\n",
    "# 0. loop though data\n",
    "\n",
    "for epoch in range(epochs):\n",
    "    # Set the model to traning mode. Make sure that we update gradients. \n",
    "    model_0.train()\n",
    "    \n",
    "    # 1. forwars\n",
    "    y_pred = model_0(X_train)\n",
    "    \n",
    "    # 2. loss\n",
    "    loss = loss_fn(y_pred, y_train)\n",
    "    print(f'Loss:', {loss})\n",
    "    \n",
    "    # 3. Optimize \n",
    "    optimizer.zero_grad()\n",
    "    \n",
    "    # 4. Perform backpropagation\n",
    "    loss.backward()\n",
    "    \n",
    "    # 5. OPtimizer performance\n",
    "    optimizer.step()\n",
    "    \n",
    "    ### Testing\n",
    "    model_0.eval()  # Turn gradients off. Husk at gøre det når vi tester modellen. \n",
    "    with torch.inference_mode(): # Turns of gradients tracking and other things\n",
    "        # 1. forward pass\n",
    "        test_pred = model_0(X_test)\n",
    "        # 2. Loss\n",
    "        test_loss = loss_fn(test_pred, y_test)\n",
    "        # 3. Optimize\n",
    "        \n",
    "    # Print out\n",
    "    if epoch % 40 == 0:\n",
    "        epochs_count.append(epoch)\n",
    "        loss_values.append(loss)\n",
    "        test_loss_value.append(test_loss)\n",
    "        print(f'Epoch:  {epoch} | Test {loss} | Test loss {test_loss}')\n",
    "        print(model_0.state_dict())    "
   ]
  },
  {
   "cell_type": "code",
   "execution_count": 22,
   "metadata": {},
   "outputs": [
    {
     "data": {
      "text/plain": [
       "(0.7, 0.3)"
      ]
     },
     "execution_count": 22,
     "metadata": {},
     "output_type": "execute_result"
    }
   ],
   "source": [
    "weights, bias"
   ]
  },
  {
   "cell_type": "code",
   "execution_count": 23,
   "metadata": {},
   "outputs": [
    {
     "data": {
      "text/plain": [
       "[tensor(0.4811),\n",
       " tensor(0.1136),\n",
       " tensor(0.0723),\n",
       " tensor(0.0406),\n",
       " tensor(0.0082)]"
      ]
     },
     "execution_count": 23,
     "metadata": {},
     "output_type": "execute_result"
    }
   ],
   "source": [
    "test_loss_value"
   ]
  },
  {
   "cell_type": "code",
   "execution_count": 24,
   "metadata": {},
   "outputs": [
    {
     "data": {
      "image/png": "[encoded data removed]",
      "text/plain": [
       "<Figure size 640x480 with 1 Axes>"
      ]
     },
     "metadata": {},
     "output_type": "display_data"
    }
   ],
   "source": [
    "# Plot loss\n",
    "plt.plot(epochs_count, torch.tensor(loss_values).numpy(), label = 'Train loss')\n",
    "plt.plot(epochs_count, test_loss_value, label = \"Test loss\")\n",
    "plt.title('Train and Test loss curve')\n",
    "plt.ylabel('Loss')\n",
    "plt.xlabel('Epochs')\n",
    "plt.legend();"
   ]
  },
  {
   "cell_type": "code",
   "execution_count": 25,
   "metadata": {},
   "outputs": [],
   "source": [
    "with torch.inference_mode():\n",
    "    y_preds_new = model_0(X_test)"
   ]
  },
  {
   "cell_type": "code",
   "execution_count": 26,
   "metadata": {},
   "outputs": [
    {
     "data": {
      "image/png": "[encoded data removed]",
      "text/plain": [
       "<Figure size 1000x700 with 1 Axes>"
      ]
     },
     "metadata": {},
     "output_type": "display_data"
    }
   ],
   "source": [
    "plot_predictions(predictions=y_preds_new)"
   ]
  },
  {
   "cell_type": "markdown",
   "metadata": {},
   "source": [
    "## Save model\n",
    "\n",
    "3 metoder til saving and loading models\n",
    "\n",
    "1. `torch.save()` - save in pickle format. \n",
    "2. `torch.load()` \n",
    "3. `torch.nn.Module.load_stat_dict()` - load state dict"
   ]
  },
  {
   "cell_type": "code",
   "execution_count": 27,
   "metadata": {},
   "outputs": [
    {
     "data": {
      "text/plain": [
       "OrderedDict([('weights', tensor([0.6990])), ('bias', tensor([0.3093]))])"
      ]
     },
     "execution_count": 27,
     "metadata": {},
     "output_type": "execute_result"
    }
   ],
   "source": [
    "# Saves models output in a python dict. \n",
    "model_0.state_dict()"
   ]
  },
  {
   "cell_type": "code",
   "execution_count": 28,
   "metadata": {},
   "outputs": [],
   "source": [
    "from pathlib import Path\n",
    "\n",
    "# 1. Lav folder til model\n",
    "MODEL_PATH = Path('models')\n",
    "MODEL_PATH.mkdir(parents = True, exist_ok=True)\n",
    "\n",
    "# 2. Lav model save path\n",
    "MODEL_NAME = '01_pytorch_wf_model_0.pth'\n",
    "MODEL_SAVE_PATH = MODEL_PATH / MODEL_NAME\n",
    "MODEL_SAVE_PATH\n",
    " \n",
    "# 3. Gem model state dict\n",
    "torch.save(obj = model_0.state_dict(), \n",
    "           f = MODEL_SAVE_PATH)"
   ]
  },
  {
   "cell_type": "code",
   "execution_count": 29,
   "metadata": {},
   "outputs": [
    {
     "name": "stdout",
     "output_type": "stream",
     "text": [
      "Load model with weight \n",
      ": OrderedDict([('weights', tensor([0.6990])), ('bias', tensor([0.3093]))])\n"
     ]
    }
   ],
   "source": [
    "# Load \n",
    "loaded_model_0 = LinearRegressionModel()\n",
    "\n",
    "# Load state dict\n",
    "loaded_model_0.load_state_dict(torch.load(f=MODEL_SAVE_PATH))\n",
    "\n",
    "print(f'Load model with weight \\n: {loaded_model_0.state_dict()}')"
   ]
  },
  {
   "cell_type": "code",
   "execution_count": 30,
   "metadata": {},
   "outputs": [
    {
     "data": {
      "text/plain": [
       "tensor([[0.8685],\n",
       "        [0.8825],\n",
       "        [0.8965],\n",
       "        [0.9105],\n",
       "        [0.9245],\n",
       "        [0.9384],\n",
       "        [0.9524],\n",
       "        [0.9664],\n",
       "        [0.9804],\n",
       "        [0.9944]])"
      ]
     },
     "execution_count": 30,
     "metadata": {},
     "output_type": "execute_result"
    }
   ],
   "source": [
    "# Make predictions\n",
    "\n",
    "loaded_model_0.eval()\n",
    "with torch.inference_mode():\n",
    "    y_pred_load_model_0 = loaded_model_0(X_test)\n",
    "\n",
    "y_pred_load_model_0    "
   ]
  },
  {
   "cell_type": "code",
   "execution_count": 31,
   "metadata": {},
   "outputs": [
    {
     "data": {
      "text/plain": [
       "'1.13.1'"
      ]
     },
     "execution_count": 31,
     "metadata": {},
     "output_type": "execute_result"
    }
   ],
   "source": [
    "torch.__version__"
   ]
  },
  {
   "cell_type": "markdown",
   "metadata": {},
   "source": [
    "## Data\n",
    "\n",
    "Create device agnostic code. \n",
    "If GPU then we use it. This will do we get a faster computer. "
   ]
  },
  {
   "cell_type": "code",
   "execution_count": 32,
   "metadata": {},
   "outputs": [
    {
     "name": "stdout",
     "output_type": "stream",
     "text": [
      "this is cpu\n"
     ]
    }
   ],
   "source": [
    "device = 'cuda' if torch.cuda.is_available() else 'cpu'\n",
    "print(f'this is {device}')"
   ]
  },
  {
   "cell_type": "markdown",
   "metadata": {},
   "source": [
    "# Chapter 2 – Neural Network Classification\n",
    "\n",
    "* Imagenet: Famouse multi classification dataset. \n",
    "* Batch size: 32 is a ideal choize. Measning if a classification look at a image it will look at 32 picture. \n",
    "\n",
    "## Archeticure of NNE\n",
    "\n",
    "Input layer: Is number of features\n",
    "Hidden Layer: are math stages in the framework. \n",
    "Loss: Measure how wrong our model is.\n",
    "\n",
    "## 1. Make Data ready"
   ]
  },
  {
   "cell_type": "code",
   "execution_count": 33,
   "metadata": {},
   "outputs": [],
   "source": [
    "import sklearn"
   ]
  },
  {
   "cell_type": "code",
   "execution_count": 34,
   "metadata": {},
   "outputs": [
    {
     "data": {
      "text/plain": [
       "(1000, 1000)"
      ]
     },
     "execution_count": 34,
     "metadata": {},
     "output_type": "execute_result"
    }
   ],
   "source": [
    "from sklearn.datasets import make_circles\n",
    "\n",
    "n_samples = 1000\n",
    "\n",
    "X, y = make_circles(n_samples,\n",
    "                    noise = 0.03,\n",
    "                    random_state = 42)\n",
    "\n",
    "len(X), len(y)"
   ]
  },
  {
   "cell_type": "code",
   "execution_count": 35,
   "metadata": {},
   "outputs": [
    {
     "name": "stdout",
     "output_type": "stream",
     "text": [
      "[[ 0.75424625  0.23148074]\n",
      " [-0.75615888  0.15325888]\n",
      " [-0.81539193  0.17328203]\n",
      " [-0.39373073  0.69288277]\n",
      " [ 0.44220765 -0.89672343]]\n",
      "[1 1 1 1 0]\n"
     ]
    },
    {
     "data": {
      "text/plain": [
       "(None, None)"
      ]
     },
     "execution_count": 35,
     "metadata": {},
     "output_type": "execute_result"
    }
   ],
   "source": [
    "print(X[:5]), print(y[:5])"
   ]
  },
  {
   "cell_type": "code",
   "execution_count": 36,
   "metadata": {},
   "outputs": [
    {
     "data": {
      "text/html": [
       "<div>\n",
       "<style scoped>\n",
       "    .dataframe tbody tr th:only-of-type {\n",
       "        vertical-align: middle;\n",
       "    }\n",
       "\n",
       "    .dataframe tbody tr th {\n",
       "        vertical-align: top;\n",
       "    }\n",
       "\n",
       "    .dataframe thead th {\n",
       "        text-align: right;\n",
       "    }\n",
       "</style>\n",
       "<table border=\"1\" class=\"dataframe\">\n",
       "  <thead>\n",
       "    <tr style=\"text-align: right;\">\n",
       "      <th></th>\n",
       "      <th>X1</th>\n",
       "      <th>X2</th>\n",
       "      <th>label</th>\n",
       "    </tr>\n",
       "  </thead>\n",
       "  <tbody>\n",
       "    <tr>\n",
       "      <th>0</th>\n",
       "      <td>0.754246</td>\n",
       "      <td>0.231481</td>\n",
       "      <td>1</td>\n",
       "    </tr>\n",
       "    <tr>\n",
       "      <th>1</th>\n",
       "      <td>-0.756159</td>\n",
       "      <td>0.153259</td>\n",
       "      <td>1</td>\n",
       "    </tr>\n",
       "    <tr>\n",
       "      <th>2</th>\n",
       "      <td>-0.815392</td>\n",
       "      <td>0.173282</td>\n",
       "      <td>1</td>\n",
       "    </tr>\n",
       "    <tr>\n",
       "      <th>3</th>\n",
       "      <td>-0.393731</td>\n",
       "      <td>0.692883</td>\n",
       "      <td>1</td>\n",
       "    </tr>\n",
       "    <tr>\n",
       "      <th>4</th>\n",
       "      <td>0.442208</td>\n",
       "      <td>-0.896723</td>\n",
       "      <td>0</td>\n",
       "    </tr>\n",
       "    <tr>\n",
       "      <th>...</th>\n",
       "      <td>...</td>\n",
       "      <td>...</td>\n",
       "      <td>...</td>\n",
       "    </tr>\n",
       "    <tr>\n",
       "      <th>995</th>\n",
       "      <td>0.244054</td>\n",
       "      <td>0.944125</td>\n",
       "      <td>0</td>\n",
       "    </tr>\n",
       "    <tr>\n",
       "      <th>996</th>\n",
       "      <td>-0.978655</td>\n",
       "      <td>-0.272373</td>\n",
       "      <td>0</td>\n",
       "    </tr>\n",
       "    <tr>\n",
       "      <th>997</th>\n",
       "      <td>-0.136900</td>\n",
       "      <td>-0.810012</td>\n",
       "      <td>1</td>\n",
       "    </tr>\n",
       "    <tr>\n",
       "      <th>998</th>\n",
       "      <td>0.670362</td>\n",
       "      <td>-0.767502</td>\n",
       "      <td>0</td>\n",
       "    </tr>\n",
       "    <tr>\n",
       "      <th>999</th>\n",
       "      <td>0.281057</td>\n",
       "      <td>0.963824</td>\n",
       "      <td>0</td>\n",
       "    </tr>\n",
       "  </tbody>\n",
       "</table>\n",
       "<p>1000 rows × 3 columns</p>\n",
       "</div>"
      ],
      "text/plain": [
       "           X1        X2  label\n",
       "0    0.754246  0.231481      1\n",
       "1   -0.756159  0.153259      1\n",
       "2   -0.815392  0.173282      1\n",
       "3   -0.393731  0.692883      1\n",
       "4    0.442208 -0.896723      0\n",
       "..        ...       ...    ...\n",
       "995  0.244054  0.944125      0\n",
       "996 -0.978655 -0.272373      0\n",
       "997 -0.136900 -0.810012      1\n",
       "998  0.670362 -0.767502      0\n",
       "999  0.281057  0.963824      0\n",
       "\n",
       "[1000 rows x 3 columns]"
      ]
     },
     "execution_count": 36,
     "metadata": {},
     "output_type": "execute_result"
    }
   ],
   "source": [
    "# Make DF with Pandas\n",
    "\n",
    "import pandas as pd\n",
    "circles = pd.DataFrame({'X1': X[:, 0], \n",
    "                        \"X2\": X[:, 1],\n",
    "                       \"label\": y })\n",
    "circles"
   ]
  },
  {
   "cell_type": "code",
   "execution_count": 37,
   "metadata": {},
   "outputs": [
    {
     "data": {
      "image/png": "[encoded data removed]",
      "text/plain": [
       "<Figure size 640x480 with 1 Axes>"
      ]
     },
     "metadata": {},
     "output_type": "display_data"
    }
   ],
   "source": [
    "# Visual\n",
    "\n",
    "import matplotlib.pyplot as plt\n",
    "\n",
    "plt.scatter(x = X[:, 0],\n",
    "            y = X[:, 1],\n",
    "            c = y,\n",
    "            cmap = plt.cm.RdBu);"
   ]
  },
  {
   "cell_type": "markdown",
   "metadata": {},
   "source": [
    "We want to differentiae between the two circles. \n",
    "\n",
    "* Binary classification. "
   ]
  },
  {
   "cell_type": "code",
   "execution_count": 38,
   "metadata": {},
   "outputs": [
    {
     "data": {
      "text/plain": [
       "(array([0.75424625, 0.23148074]), 1)"
      ]
     },
     "execution_count": 38,
     "metadata": {},
     "output_type": "execute_result"
    }
   ],
   "source": [
    "X_sample = X[0]\n",
    "y_sample = y[0]\n",
    "\n",
    "X_sample, y_sample"
   ]
  },
  {
   "cell_type": "code",
   "execution_count": 39,
   "metadata": {},
   "outputs": [],
   "source": [
    "# Train and test\n",
    "\n",
    "import torch"
   ]
  },
  {
   "cell_type": "code",
   "execution_count": 40,
   "metadata": {},
   "outputs": [
    {
     "data": {
      "text/plain": [
       "(tensor([[ 0.7542,  0.2315],\n",
       "         [-0.7562,  0.1533],\n",
       "         [-0.8154,  0.1733],\n",
       "         [-0.3937,  0.6929],\n",
       "         [ 0.4422, -0.8967]]),\n",
       " tensor([1., 1., 1., 1., 0.]))"
      ]
     },
     "execution_count": 40,
     "metadata": {},
     "output_type": "execute_result"
    }
   ],
   "source": [
    "X = torch.from_numpy(X).type(torch.float)\n",
    "y = torch.from_numpy(y).type(torch.float)\n",
    "\n",
    "X[:5], y[:5]"
   ]
  },
  {
   "cell_type": "code",
   "execution_count": 41,
   "metadata": {},
   "outputs": [
    {
     "data": {
      "text/plain": [
       "torch.float32"
      ]
     },
     "execution_count": 41,
     "metadata": {},
     "output_type": "execute_result"
    }
   ],
   "source": [
    "X.dtype"
   ]
  },
  {
   "cell_type": "code",
   "execution_count": 42,
   "metadata": {},
   "outputs": [
    {
     "data": {
      "text/plain": [
       "(800, 200)"
      ]
     },
     "execution_count": 42,
     "metadata": {},
     "output_type": "execute_result"
    }
   ],
   "source": [
    "# Split\n",
    "from sklearn.model_selection import train_test_split\n",
    "\n",
    "X_train, X_test, y_train, y_test = train_test_split(X, \n",
    "                                                    y,\n",
    "                                                    test_size=0.2,\n",
    "                                                    random_state=42)\n",
    "\n",
    "len(X_train), len(X_test)"
   ]
  },
  {
   "cell_type": "code",
   "execution_count": 43,
   "metadata": {},
   "outputs": [
    {
     "data": {
      "text/plain": [
       "'cpu'"
      ]
     },
     "execution_count": 43,
     "metadata": {},
     "output_type": "execute_result"
    }
   ],
   "source": [
    "device = 'cuda' if torch.cuda.is_available() else 'cpu'\n",
    "device"
   ]
  },
  {
   "cell_type": "code",
   "execution_count": 44,
   "metadata": {},
   "outputs": [
    {
     "data": {
      "text/plain": [
       "CircleModelsv0(\n",
       "  (layer_1): Linear(in_features=2, out_features=5, bias=True)\n",
       "  (layer_2): Linear(in_features=5, out_features=1, bias=True)\n",
       ")"
      ]
     },
     "execution_count": 44,
     "metadata": {},
     "output_type": "execute_result"
    }
   ],
   "source": [
    "from torch import nn\n",
    "## Building model\n",
    "\n",
    "class CircleModelsv0(nn.Module):\n",
    "    \n",
    "    def __init__(self):\n",
    "        super().__init__()\n",
    "        \n",
    "    # 2. Create 2 nn.Linear layer to handle shape\n",
    "    ## The `out_features` need to have the same shap af y which is 1.\n",
    "    ## nn.Linear transfor as acording to https://pytorch.org/docs/stable/generated/torch.nn.Linear.html\n",
    "        self.layer_1 = nn.Linear(in_features=2, out_features=5)\n",
    "    # The second layer need to mach the out_features of first layer. \n",
    "        self.layer_2 = nn.Linear(in_features=5, out_features=1) # Tak 5 feature and output 1 feature same shape as y\n",
    "    \n",
    "    # 3. define forward\n",
    "    def forward(self, x):\n",
    "        return self.layer_2(self.layer_1(x) ) # x->layer_1 -> layer_2 -> output\n",
    "    \n",
    "    # 4. Instanit instance of model.\n",
    "    \n",
    "model_0 = CircleModelsv0().to(device)\n",
    "model_0"
   ]
  },
  {
   "cell_type": "code",
   "execution_count": 45,
   "metadata": {},
   "outputs": [
    {
     "data": {
      "text/plain": [
       "CircleModelsv0(\n",
       "  (layer_1): Linear(in_features=2, out_features=5, bias=True)\n",
       "  (layer_2): Linear(in_features=5, out_features=1, bias=True)\n",
       ")"
      ]
     },
     "execution_count": 45,
     "metadata": {},
     "output_type": "execute_result"
    }
   ],
   "source": [
    "# Using nn.Sequential\n",
    "\n",
    "## Building model\n",
    "\n",
    "class CircleModelsv0(nn.Module):\n",
    "    \n",
    "    def __init__(self):\n",
    "        super().__init__()\n",
    "        \n",
    "    # 2. Create 2 nn.Linear layer to handle shape\n",
    "    ## The `out_features` need to have the same shap af y which is 1.\n",
    "    ## nn.Linear transfor as acording to https://pytorch.org/docs/stable/generated/torch.nn.Linear.html\n",
    "        self.layer_1 = nn.Linear(in_features=2, out_features=5)\n",
    "    # The second layer need to mach the out_features of first layer. \n",
    "        self.layer_2 = nn.Linear(in_features=5, out_features=1) # Tak 5 feature and output 1 feature same shape as y\n",
    "    \n",
    "    # 3. define forward\n",
    "    def forward(self, x):\n",
    "        return self.layer_2(self.layer_1(x) ) # x->layer_1 -> layer_2 -> output\n",
    "    \n",
    "    # 4. Instanit instance of model.\n",
    "    \n",
    "model_0 = CircleModelsv0().to(device)\n",
    "model_0"
   ]
  },
  {
   "cell_type": "code",
   "execution_count": 46,
   "metadata": {},
   "outputs": [
    {
     "data": {
      "text/plain": [
       "Sequential(\n",
       "  (0): Linear(in_features=2, out_features=5, bias=True)\n",
       "  (1): Linear(in_features=5, out_features=1, bias=True)\n",
       ")"
      ]
     },
     "execution_count": 46,
     "metadata": {},
     "output_type": "execute_result"
    }
   ],
   "source": [
    "# Dont define forward like before. \n",
    "mode_0 = nn.Sequential(\n",
    "    nn.Linear(in_features=2, out_features=5),\n",
    "    nn.Linear(in_features=5, out_features=1)\n",
    ").to(device)\n",
    "\n",
    "mode_0"
   ]
  },
  {
   "cell_type": "markdown",
   "metadata": {},
   "source": [
    "It is esier but when more complex, then it is good we can build our own layers. \n",
    "\n",
    "A Sequential can be used inside class. "
   ]
  },
  {
   "cell_type": "code",
   "execution_count": 47,
   "metadata": {},
   "outputs": [
    {
     "data": {
      "text/plain": [
       "OrderedDict([('layer_1.weight',\n",
       "              tensor([[ 0.2240, -0.3146],\n",
       "                      [ 0.5053,  0.5647],\n",
       "                      [-0.6519,  0.6036],\n",
       "                      [ 0.3377,  0.3081],\n",
       "                      [ 0.2911,  0.5878]])),\n",
       "             ('layer_1.bias',\n",
       "              tensor([-0.0934, -0.5980, -0.2029, -0.4980,  0.0467])),\n",
       "             ('layer_2.weight',\n",
       "              tensor([[-0.0835, -0.2399, -0.0407,  0.4237, -0.0353]])),\n",
       "             ('layer_2.bias', tensor([0.0142]))])"
      ]
     },
     "execution_count": 47,
     "metadata": {},
     "output_type": "execute_result"
    }
   ],
   "source": [
    "model_0.state_dict()"
   ]
  },
  {
   "cell_type": "markdown",
   "metadata": {},
   "source": [
    "Get weights now"
   ]
  },
  {
   "cell_type": "code",
   "execution_count": 48,
   "metadata": {},
   "outputs": [
    {
     "name": "stdout",
     "output_type": "stream",
     "text": [
      "Length of pred: 200, shape torch.Size([200, 1])\n"
     ]
    }
   ],
   "source": [
    "# Predictions\n",
    "\n",
    "untrained_preds = model_0(X_test.to(device))\n",
    "print(f'Length of pred: {len(untrained_preds)}, shape {untrained_preds.shape}')"
   ]
  },
  {
   "cell_type": "code",
   "execution_count": null,
   "metadata": {},
   "outputs": [],
   "source": []
  }
 ],
 "metadata": {
  "kernelspec": {
   "display_name": "Python 3.9.12 ('tf')",
   "language": "python",
   "name": "python3"
  },
  "language_info": {
   "codemirror_mode": {
    "name": "ipython",
    "version": 3
   },
   "file_extension": ".py",
   "mimetype": "text/x-python",
   "name": "python",
   "nbconvert_exporter": "python",
   "pygments_lexer": "ipython3",
   "version": "3.9.15"
  },
  "vscode": {
   "interpreter": {
    "hash": "dc1b947dce198ff7f2d2cb152b2cbb61132fce4429fa808fd5b89ac4d7df39fa"
   }
  }
 },
 "nbformat": 4,
 "nbformat_minor": 2
}