{
 "cells": [
  {
   "cell_type": "markdown",
   "metadata": {},
   "source": [
    "# Object-Oriented Programming\n",
    "\n",
    "Object-oriented programming is a programming paradigm that provides a means of structuring programs so that properties and behaviors are bundled into individual objects.\n",
    "\n",
    "For instance, an object could represent a person with properties like a name, age, and address and behaviors such as walking, talking, breathing, and running. Or it could represent an email with properties like a recipient list, subject, and body and behaviors like adding attachments and sending.\n",
    "\n",
    "Put another way, object-oriented programming is an approach for modeling concrete, real-world things, like cars, as well as relations between things, like companies and employees, students and teachers, and so on. OOP models real-world entities as software objects that have some data associated with them and can perform certain functions.\n",
    "\n",
    "## How to Define a Class\n",
    "\n",
    "All class definitions start with the class keyword, which is followed by the name of the class and a colon. Any code that is indented below the class definition is considered part of the class’s body.\n",
    "\n",
    "Here’s an example of a Dog class:\n",
    "\n",
    "```python\n",
    "class Dog:\n",
    "    pass\n",
    "```\n",
    "\n",
    "The properties that all Dog objects must have are defined in a method called `.__init__()`. Every time a new Dog object is created, .__init__() sets the initial state of the object by assigning the values of the object’s properties. That is, .__init__() initializes each new instance of the class.\n",
    "\n",
    "You can give .__init__() any number of parameters, but the first parameter will always be a variable called self. When a new class instance is created, the instance is automatically passed to the self parameter in .__init__() so that new attributes can be defined on the object.\n",
    "\n",
    "Let’s update the Dog class with an .__init__() method that creates .name and .age attributes:"
   ]
  },
  {
   "cell_type": "code",
   "execution_count": null,
   "metadata": {},
   "outputs": [],
   "source": [
    "class Dog:\n",
    "    def __init__(self, name, age):\n",
    "        self.name = name\n",
    "        self.age = age"
   ]
  },
  {
   "cell_type": "markdown",
   "metadata": {},
   "source": [
    "In the body of .__init__(), there are two statements using the self variable:\n",
    "\n",
    "1) self.name = name creates an attribute called name and assigns to it the value of the name parameter.\n",
    "2) self.age = age creates an attribute called age and assigns to it the value of the age parameter.\n",
    "\n",
    "Attributes created in .__init__() are called **instance attributes**. An instance attribute’s value is specific to a particular instance of the class. All Dog objects have a name and an age, but the values for the name and age attributes will vary depending on the Dog instance.\n",
    "\n",
    "On the other hand, **class attributes** are attributes that have the same value for all class instances. You can define a class attribute by assigning a value to a variable name outside of .__init__().\n",
    "\n",
    "For example, the following Dog class has a class attribute called species with the value \"Canis familiaris\":\n",
    "\n",
    "```python\n",
    "class Dog:\n",
    "    # Class attribute\n",
    "    species = \"Canis familiaris\"\n",
    "\n",
    "    def __init__(self, name, age):\n",
    "        self.name = name\n",
    "        self.age = age\n",
    "```\n",
    "\n",
    "Class attributes are defined directly beneath the first line of the class name and are indented by four spaces. They must always be assigned an initial value. When an instance of the class is created, class attributes are automatically created and assigned to their initial values.\n",
    "\n",
    "Use class attributes to define properties that should have the same value for every class instance. Use instance attributes for properties that vary from one instance to another."
   ]
  },
  {
   "cell_type": "markdown",
   "metadata": {},
   "source": []
  }
 ],
 "metadata": {
  "language_info": {
   "name": "python"
  },
  "orig_nbformat": 4
 },
 "nbformat": 4,
 "nbformat_minor": 2
}
