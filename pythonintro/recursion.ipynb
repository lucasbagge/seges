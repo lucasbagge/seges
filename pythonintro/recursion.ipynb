{
 "cells": [
  {
   "cell_type": "markdown",
   "metadata": {},
   "source": [
    "# Python Recursion\n",
    "\n"
   ]
  },
  {
   "cell_type": "markdown",
   "metadata": {},
   "source": [
    "The idea behind recursion is simple;\n",
    "> Write a functoin that repeat itself.\n",
    "\n",
    "Let us look at at example where we iterate though a loop that prints its number until it each zero:"
   ]
  },
  {
   "cell_type": "markdown",
   "metadata": {},
   "source": []
  },
  {
   "cell_type": "code",
   "execution_count": 1,
   "metadata": {},
   "outputs": [
    {
     "name": "stdout",
     "output_type": "stream",
     "text": [
      "3\n",
      "2\n",
      "1\n",
      "blastoff\n"
     ]
    }
   ],
   "source": [
    "def countdown(n):\n",
    "    if n <= 0:\n",
    "        print('blastoff')\n",
    "    else:\n",
    "        print(n)\n",
    "        countdown(n - 1)\n",
    "countdown(3)        "
   ]
  },
  {
   "cell_type": "markdown",
   "metadata": {},
   "source": [
    "For applying recursion you need to orby three laws:\n",
    "\n",
    "1) A recursive algorithm must have a base case.\n",
    "2) A recursive algorithm must change its state and move toward the base case.\n",
    "3) A recursive algorithm must call itself, recursively.\n",
    "\n",
    "Let’s look at each one of these laws in more detail. First, a base case is the condition that allows the algorithm to stop recursing. A base case is typically a problem that is small enough to solve directly. In the countdown algorithm the base case is when the number is 0.\n",
    "\n",
    "To obey the second law, we must arrange for a change of state that moves the algorithm toward the base case. A change of state means that some data that the algorithm is using is modified. Usually the data that represents our problem gets smaller in some way.\n",
    "\n",
    "The final law is that the algorithm must call itself. This is the very definition of recursion. Recursion is a confusing concept to many beginning programmers. As a novice programmer, you have learned that functions are good because you can take a large problem and break it up into smaller problems. The smaller problems can be solved by writing a function to solve each problem. When we talk about recursion it may seem that we are talking ourselves in circles. We have a problem to solve with a function, but that function solves the problem by calling itself! But the logic is not circular at all; the logic of recursion is an elegant expression of solving a problem by breaking it down into a smaller and easier problems.\n",
    "\n",
    "Another way of explaining it is for the Russian **Matryoshka DoLL** that hase multiple dolls inside of it. "
   ]
  },
  {
   "cell_type": "markdown",
   "metadata": {},
   "source": [
    "## Exercises\n",
    "\n",
    "### Exercise 8.1 (upper and lower cases)\n",
    "\n",
    "Make a recursive function cases(s) that given a string s, generates a list of all possible upper and lower case combinations of the letters in the string. E.g. cases('abcB') should return a list containing the following 16 strings ['abCb', 'abCB', 'abcb', 'abcB', 'aBCb', 'aBCB', 'aBcb', 'aBcB', 'AbCb', 'AbCB', 'Abcb', 'AbcB', 'ABCb', 'ABCB', 'ABcb', 'ABcB']."
   ]
  },
  {
   "cell_type": "code",
   "execution_count": 32,
   "metadata": {},
   "outputs": [],
   "source": [
    "def cases(s):\n",
    "    if s == \"\":  # Base Case\n",
    "        return [\"\"]\n",
    "\n",
    "    hoved = s[0]\n",
    "    haler = cases(s[1:])\n",
    "    Case = [hoved.lower(), hoved.upper()]  #)\n",
    "    return [case + hale for case in Case for hale in haler]"
   ]
  },
  {
   "cell_type": "code",
   "execution_count": 33,
   "metadata": {},
   "outputs": [
    {
     "data": {
      "text/plain": [
       "['abcb',\n",
       " 'abcB',\n",
       " 'abCb',\n",
       " 'abCB',\n",
       " 'aBcb',\n",
       " 'aBcB',\n",
       " 'aBCb',\n",
       " 'aBCB',\n",
       " 'Abcb',\n",
       " 'AbcB',\n",
       " 'AbCb',\n",
       " 'AbCB',\n",
       " 'ABcb',\n",
       " 'ABcB',\n",
       " 'ABCb',\n",
       " 'ABCB']"
      ]
     },
     "execution_count": 33,
     "metadata": {},
     "output_type": "execute_result"
    }
   ],
   "source": [
    "s = 'abcB'\n",
    "\n",
    "cases(s)"
   ]
  },
  {
   "cell_type": "markdown",
   "metadata": {},
   "source": [
    "### Exercise 8.2 (list subsets)\n",
    "\n",
    "Make a recursive function subsets(L) that given a list L returns a list of all subsets of L (each subset being a list). E.g. subsets([1, 2]) should return [[], [1], [2], [1, 2]]. The order of the returned lists can be arbitrary."
   ]
  },
  {
   "cell_type": "code",
   "execution_count": 40,
   "metadata": {},
   "outputs": [],
   "source": [
    "def l_s(ls):\n",
    "    if ls == []:\n",
    "        return [[]]\n",
    "    \n",
    "    x = l_s(ls[1:])\n",
    "    \n",
    "    return x + [[ls[0]] + y for y in x]"
   ]
  },
  {
   "cell_type": "code",
   "execution_count": 41,
   "metadata": {},
   "outputs": [
    {
     "data": {
      "text/plain": [
       "[[], [2], [1], [1, 2]]"
      ]
     },
     "execution_count": 41,
     "metadata": {},
     "output_type": "execute_result"
    }
   ],
   "source": [
    "lls = [1, 2]\n",
    "l_s(lls)"
   ]
  },
  {
   "cell_type": "code",
   "execution_count": 63,
   "metadata": {},
   "outputs": [
    {
     "ename": "TypeError",
     "evalue": "can only concatenate list (not \"int\") to list",
     "output_type": "error",
     "traceback": [
      "\u001b[0;31m---------------------------------------------------------------------------\u001b[0m",
      "\u001b[0;31mTypeError\u001b[0m                                 Traceback (most recent call last)",
      "\u001b[1;32m/Users/lucasbagge/Documents/Projects/seges/pythonintro/recursion.ipynb Cell 12\u001b[0m in \u001b[0;36m<cell line: 1>\u001b[0;34m()\u001b[0m\n\u001b[0;32m----> <a href='vscode-notebook-cell:/Users/lucasbagge/Documents/Projects/seges/pythonintro/recursion.ipynb#ch0000021?line=0'>1</a>\u001b[0m [[lls[:\u001b[39m0\u001b[39m]] \u001b[39m+\u001b[39m x \u001b[39mfor\u001b[39;00m x \u001b[39min\u001b[39;00m lls[\u001b[39m0\u001b[39m:] ]\n",
      "\u001b[1;32m/Users/lucasbagge/Documents/Projects/seges/pythonintro/recursion.ipynb Cell 12\u001b[0m in \u001b[0;36m<listcomp>\u001b[0;34m(.0)\u001b[0m\n\u001b[0;32m----> <a href='vscode-notebook-cell:/Users/lucasbagge/Documents/Projects/seges/pythonintro/recursion.ipynb#ch0000021?line=0'>1</a>\u001b[0m [[lls[:\u001b[39m0\u001b[39;49m]] \u001b[39m+\u001b[39;49m x \u001b[39mfor\u001b[39;00m x \u001b[39min\u001b[39;00m lls[\u001b[39m0\u001b[39m:] ]\n",
      "\u001b[0;31mTypeError\u001b[0m: can only concatenate list (not \"int\") to list"
     ]
    }
   ],
   "source": [
    "[[lls[:0]] + x for x in [lls[0:]] ]"
   ]
  },
  {
   "cell_type": "code",
   "execution_count": 46,
   "metadata": {},
   "outputs": [
    {
     "data": {
      "text/plain": [
       "[]"
      ]
     },
     "execution_count": 46,
     "metadata": {},
     "output_type": "execute_result"
    }
   ],
   "source": [
    "lls[:0]"
   ]
  },
  {
   "cell_type": "markdown",
   "metadata": {},
   "source": [
    "### Exercise 8.3 (tree relabeling)\n",
    "\n",
    "Make a recursive function relabel(tree, new_names) that takes a tree tree and a dictionary new_names = {old_name: new_name, ...}, and returns a new tree where labels in the dictionary new_names are replaced by the corresponding values in the dictionary. Leaves not in the dictionary remain unchanged.\n",
    "\n",
    "Example. relabel(('a', ('b', 'c')), {'a': 'x', 'c': 'y'}) should return ('x', ('b', 'y')).\n",
    "\n"
   ]
  },
  {
   "cell_type": "code",
   "execution_count": null,
   "metadata": {},
   "outputs": [],
   "source": []
  }
 ],
 "metadata": {
  "kernelspec": {
   "display_name": "Python 3.9.13 64-bit",
   "language": "python",
   "name": "python3"
  },
  "language_info": {
   "codemirror_mode": {
    "name": "ipython",
    "version": 3
   },
   "file_extension": ".py",
   "mimetype": "text/x-python",
   "name": "python",
   "nbconvert_exporter": "python",
   "pygments_lexer": "ipython3",
   "version": "3.9.13"
  },
  "orig_nbformat": 4,
  "vscode": {
   "interpreter": {
    "hash": "b0fa6594d8f4cbf19f97940f81e996739fb7646882a419484c72d19e05852a7e"
   }
  }
 },
 "nbformat": 4,
 "nbformat_minor": 2
}
